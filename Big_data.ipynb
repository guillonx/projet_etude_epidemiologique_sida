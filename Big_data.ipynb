{
 "cells": [
  {
   "cell_type": "code",
   "execution_count": 1,
   "id": "e5c99d6a-d49b-4f48-a2c7-b02eefbf5ddc",
   "metadata": {
    "tags": []
   },
   "outputs": [],
   "source": [
    "from pyspark.sql import SparkSession\n",
    "import numpy as np\n",
    "import pandas as pd\n",
    "import matplotlib.pyplot as plt\n",
    "import seaborn as sns\n",
    "\n",
    "\n",
    "spark = SparkSession.builder \\\n",
    "    .appName(\"Analyse_HIV\") \\\n",
    "    .master(\"local[*]\") \\\n",
    "    .config(\"spark.executor.memory\", \"8g\") \\\n",
    "    .config(\"spark.driver.memory\", \"8g\") \\\n",
    "    .config(\"spark.memory.fraction\", \"0.8\") \\\n",
    "    .config(\"spark.memory.storageFraction\", \"0.3\") \\\n",
    "    .getOrCreate()"
   ]
  },
  {
   "cell_type": "markdown",
   "id": "de1c18bb-101b-42ba-bc28-726a253f2217",
   "metadata": {},
   "source": [
    "Charger les données "
   ]
  },
  {
   "cell_type": "code",
   "execution_count": 2,
   "id": "d704120f-9f49-4a09-92fc-0f3ae8741695",
   "metadata": {
    "tags": []
   },
   "outputs": [],
   "source": [
    "df = spark.read.load('new-cases-of-hiv-infection.csv', format='com.databricks.spark.csv',header='true',sep=',',inferSchema='true')"
   ]
  },
  {
   "cell_type": "code",
   "execution_count": 3,
   "id": "540a95ff-d54c-4851-abd0-44ac7a21a71d",
   "metadata": {
    "tags": []
   },
   "outputs": [
    {
     "name": "stdout",
     "output_type": "stream",
     "text": [
      "+--------------------+----+----+---------------------------------------------------------+\n",
      "|              Entity|Code|Year|Incidence - HIV/AIDS - Sex: Both - Age: All Ages (Number)|\n",
      "+--------------------+----+----+---------------------------------------------------------+\n",
      "|         Afghanistan| AFG|1990|                                                       88|\n",
      "|         Afghanistan| AFG|1991|                                                      104|\n",
      "|         Afghanistan| AFG|1992|                                                      120|\n",
      "|         Afghanistan| AFG|1993|                                                      127|\n",
      "|         Afghanistan| AFG|1994|                                                      133|\n",
      "|         Afghanistan| AFG|1995|                                                      144|\n",
      "|         Afghanistan| AFG|1996|                                                      152|\n",
      "|         Afghanistan| AFG|1997|                                                      161|\n",
      "|         Afghanistan| AFG|1998|                                                      165|\n",
      "|         Afghanistan| AFG|1999|                                                      169|\n",
      "|         Afghanistan| AFG|2000|                                                      178|\n",
      "|         Afghanistan| AFG|2001|                                                      193|\n",
      "|         Afghanistan| AFG|2002|                                                      208|\n",
      "|         Afghanistan| AFG|2003|                                                      220|\n",
      "|         Afghanistan| AFG|2004|                                                      233|\n",
      "|         Afghanistan| AFG|2005|                                                      244|\n",
      "|         Afghanistan| AFG|2006|                                                      252|\n",
      "|         Afghanistan| AFG|2007|                                                      269|\n",
      "|         Afghanistan| AFG|2008|                                                      282|\n",
      "|         Afghanistan| AFG|2009|                                                      290|\n",
      "|         Afghanistan| AFG|2010|                                                      301|\n",
      "|         Afghanistan| AFG|2011|                                                      330|\n",
      "|         Afghanistan| AFG|2012|                                                      459|\n",
      "|         Afghanistan| AFG|2013|                                                      526|\n",
      "|         Afghanistan| AFG|2014|                                                      593|\n",
      "|         Afghanistan| AFG|2015|                                                      670|\n",
      "|         Afghanistan| AFG|2016|                                                      718|\n",
      "|         Afghanistan| AFG|2017|                                                      765|\n",
      "|         Afghanistan| AFG|2018|                                                      811|\n",
      "|         Afghanistan| AFG|2019|                                                      850|\n",
      "|African Region (WHO)|null|1990|                                                  1716679|\n",
      "|African Region (WHO)|null|1991|                                                  1980985|\n",
      "|African Region (WHO)|null|1992|                                                  2202247|\n",
      "|African Region (WHO)|null|1993|                                                  2377334|\n",
      "|African Region (WHO)|null|1994|                                                  2503193|\n",
      "|African Region (WHO)|null|1995|                                                  2581305|\n",
      "|African Region (WHO)|null|1996|                                                  2614399|\n",
      "|African Region (WHO)|null|1997|                                                  2604933|\n",
      "|African Region (WHO)|null|1998|                                                  2559210|\n",
      "|African Region (WHO)|null|1999|                                                  2488686|\n",
      "|African Region (WHO)|null|2000|                                                  2405364|\n",
      "|African Region (WHO)|null|2001|                                                  2316862|\n",
      "|African Region (WHO)|null|2002|                                                  2230153|\n",
      "|African Region (WHO)|null|2003|                                                  2152552|\n",
      "|African Region (WHO)|null|2004|                                                  2085619|\n",
      "|African Region (WHO)|null|2005|                                                  2028997|\n",
      "|African Region (WHO)|null|2006|                                                  1979672|\n",
      "|African Region (WHO)|null|2007|                                                  1934594|\n",
      "|African Region (WHO)|null|2008|                                                  1888093|\n",
      "|African Region (WHO)|null|2009|                                                  1842407|\n",
      "+--------------------+----+----+---------------------------------------------------------+\n",
      "only showing top 50 rows\n",
      "\n"
     ]
    }
   ],
   "source": [
    "df.show(50)"
   ]
  },
  {
   "cell_type": "code",
   "execution_count": 4,
   "id": "effa7f73-47f8-449e-99cc-7de911630bdd",
   "metadata": {
    "tags": []
   },
   "outputs": [],
   "source": [
    "df1 = spark.read.load('tb-patients-living-with-hiv-receiving-art.csv', format='com.databricks.spark.csv',header='true',sep=',',inferSchema='true')"
   ]
  },
  {
   "cell_type": "code",
   "execution_count": 5,
   "id": "ef55e9c4-3d97-48ea-8373-3cd4c87e87b7",
   "metadata": {
    "tags": []
   },
   "outputs": [],
   "source": [
    "DFA = spark.read.load('tb-patients-tested-positive-for-hiv.csv', format='com.databricks.spark.csv',header='true',sep=',',inferSchema='true')"
   ]
  },
  {
   "cell_type": "code",
   "execution_count": 6,
   "id": "3c4f75a7-8a50-4515-9599-61906c8b0cea",
   "metadata": {
    "tags": []
   },
   "outputs": [
    {
     "name": "stdout",
     "output_type": "stream",
     "text": [
      "+-----------+----+----+-------------------------------------------------+\n",
      "|     Entity|Code|Year|TB patients living with HIV receiving ART - Total|\n",
      "+-----------+----+----+-------------------------------------------------+\n",
      "|Afghanistan| AFG|2007|                                                0|\n",
      "|Afghanistan| AFG|2008|                                                0|\n",
      "|Afghanistan| AFG|2009|                                                5|\n",
      "|Afghanistan| AFG|2010|                                                2|\n",
      "|Afghanistan| AFG|2011|                                                4|\n",
      "|Afghanistan| AFG|2012|                                                5|\n",
      "|Afghanistan| AFG|2015|                                                3|\n",
      "|Afghanistan| AFG|2016|                                                8|\n",
      "|    Albania| ALB|2003|                                                0|\n",
      "|    Albania| ALB|2006|                                                3|\n",
      "|    Albania| ALB|2007|                                                1|\n",
      "|    Albania| ALB|2008|                                                4|\n",
      "|    Albania| ALB|2009|                                                6|\n",
      "|    Albania| ALB|2010|                                                0|\n",
      "|    Albania| ALB|2011|                                                2|\n",
      "|    Albania| ALB|2012|                                                7|\n",
      "|    Albania| ALB|2013|                                                2|\n",
      "|    Albania| ALB|2014|                                                2|\n",
      "|    Albania| ALB|2015|                                                6|\n",
      "|    Albania| ALB|2016|                                                6|\n",
      "+-----------+----+----+-------------------------------------------------+\n",
      "only showing top 20 rows\n",
      "\n"
     ]
    }
   ],
   "source": [
    "df1.show(20)"
   ]
  },
  {
   "cell_type": "code",
   "execution_count": 7,
   "id": "e7f05006-7f36-4e6c-8d40-fec417045bea",
   "metadata": {
    "tags": []
   },
   "outputs": [],
   "source": [
    "from pyspark.sql.functions import col\n",
    "df1 = df1.withColumnRenamed(\"TB patients living with HIV receiving ART - Total\", \"Tbpatients\")"
   ]
  },
  {
   "cell_type": "code",
   "execution_count": 8,
   "id": "885e2212-8ee8-4df6-92aa-94005e3da5d2",
   "metadata": {
    "tags": []
   },
   "outputs": [
    {
     "name": "stdout",
     "output_type": "stream",
     "text": [
      "+-----------+---+----+----------+\n",
      "|      Entit|Cod| Yea|Tbpatients|\n",
      "+-----------+---+----+----------+\n",
      "|Afghanistan|AFG|2007|         0|\n",
      "|Afghanistan|AFG|2008|         0|\n",
      "|Afghanistan|AFG|2009|         5|\n",
      "|Afghanistan|AFG|2010|         2|\n",
      "|Afghanistan|AFG|2011|         4|\n",
      "|Afghanistan|AFG|2012|         5|\n",
      "|Afghanistan|AFG|2015|         3|\n",
      "|Afghanistan|AFG|2016|         8|\n",
      "|    Albania|ALB|2003|         0|\n",
      "|    Albania|ALB|2006|         3|\n",
      "|    Albania|ALB|2007|         1|\n",
      "|    Albania|ALB|2008|         4|\n",
      "|    Albania|ALB|2009|         6|\n",
      "|    Albania|ALB|2010|         0|\n",
      "|    Albania|ALB|2011|         2|\n",
      "|    Albania|ALB|2012|         7|\n",
      "|    Albania|ALB|2013|         2|\n",
      "|    Albania|ALB|2014|         2|\n",
      "|    Albania|ALB|2015|         6|\n",
      "|    Albania|ALB|2016|         6|\n",
      "+-----------+---+----+----------+\n",
      "only showing top 20 rows\n",
      "\n"
     ]
    }
   ],
   "source": [
    "from pyspark.sql.functions import col\n",
    "df1 = df1.withColumnRenamed(\"Entity\", \"Entit\")\n",
    "df1 = df1.withColumnRenamed(\"Code\", \"Cod\")\n",
    "df1 = df1.withColumnRenamed(\"Year\", \"Yea\")\n",
    "df1.show()"
   ]
  },
  {
   "cell_type": "code",
   "execution_count": 9,
   "id": "6e22f9ab-b8e0-490d-a38d-d52cd853fec4",
   "metadata": {
    "tags": []
   },
   "outputs": [
    {
     "name": "stdout",
     "output_type": "stream",
     "text": [
      "+-----------+----+----+---------+\n",
      "|     Entity|Code|Year|Incidence|\n",
      "+-----------+----+----+---------+\n",
      "|Afghanistan| AFG|1990|       88|\n",
      "|Afghanistan| AFG|1991|      104|\n",
      "|Afghanistan| AFG|1992|      120|\n",
      "|Afghanistan| AFG|1993|      127|\n",
      "|Afghanistan| AFG|1994|      133|\n",
      "|Afghanistan| AFG|1995|      144|\n",
      "|Afghanistan| AFG|1996|      152|\n",
      "|Afghanistan| AFG|1997|      161|\n",
      "|Afghanistan| AFG|1998|      165|\n",
      "|Afghanistan| AFG|1999|      169|\n",
      "|Afghanistan| AFG|2000|      178|\n",
      "|Afghanistan| AFG|2001|      193|\n",
      "|Afghanistan| AFG|2002|      208|\n",
      "|Afghanistan| AFG|2003|      220|\n",
      "|Afghanistan| AFG|2004|      233|\n",
      "|Afghanistan| AFG|2005|      244|\n",
      "|Afghanistan| AFG|2006|      252|\n",
      "|Afghanistan| AFG|2007|      269|\n",
      "|Afghanistan| AFG|2008|      282|\n",
      "|Afghanistan| AFG|2009|      290|\n",
      "+-----------+----+----+---------+\n",
      "only showing top 20 rows\n",
      "\n"
     ]
    }
   ],
   "source": [
    "from pyspark.sql.functions import col\n",
    "df = df.withColumnRenamed(\"Incidence - HIV/AIDS - Sex: Both - Age: All Ages (Number)\", \"Incidence\")\n",
    "df.show()"
   ]
  },
  {
   "cell_type": "code",
   "execution_count": 10,
   "id": "3d7364d5-d04e-404f-b4b6-9e6a30a06ac6",
   "metadata": {
    "tags": []
   },
   "outputs": [
    {
     "name": "stdout",
     "output_type": "stream",
     "text": [
      "+-----------+----+----+---------+-----------+---+----+----------+\n",
      "|     Entity|Code|Year|Incidence|      Entit|Cod| Yea|Tbpatients|\n",
      "+-----------+----+----+---------+-----------+---+----+----------+\n",
      "|Afghanistan| AFG|1990|       88|Afghanistan|AFG|2016|         8|\n",
      "|Afghanistan| AFG|1990|       88|Afghanistan|AFG|2015|         3|\n",
      "|Afghanistan| AFG|1990|       88|Afghanistan|AFG|2012|         5|\n",
      "|Afghanistan| AFG|1990|       88|Afghanistan|AFG|2011|         4|\n",
      "|Afghanistan| AFG|1990|       88|Afghanistan|AFG|2010|         2|\n",
      "|Afghanistan| AFG|1990|       88|Afghanistan|AFG|2009|         5|\n",
      "|Afghanistan| AFG|1990|       88|Afghanistan|AFG|2008|         0|\n",
      "|Afghanistan| AFG|1990|       88|Afghanistan|AFG|2007|         0|\n",
      "|Afghanistan| AFG|1991|      104|Afghanistan|AFG|2016|         8|\n",
      "|Afghanistan| AFG|1991|      104|Afghanistan|AFG|2015|         3|\n",
      "|Afghanistan| AFG|1991|      104|Afghanistan|AFG|2012|         5|\n",
      "|Afghanistan| AFG|1991|      104|Afghanistan|AFG|2011|         4|\n",
      "|Afghanistan| AFG|1991|      104|Afghanistan|AFG|2010|         2|\n",
      "|Afghanistan| AFG|1991|      104|Afghanistan|AFG|2009|         5|\n",
      "|Afghanistan| AFG|1991|      104|Afghanistan|AFG|2008|         0|\n",
      "|Afghanistan| AFG|1991|      104|Afghanistan|AFG|2007|         0|\n",
      "|Afghanistan| AFG|1992|      120|Afghanistan|AFG|2016|         8|\n",
      "|Afghanistan| AFG|1992|      120|Afghanistan|AFG|2015|         3|\n",
      "|Afghanistan| AFG|1992|      120|Afghanistan|AFG|2012|         5|\n",
      "|Afghanistan| AFG|1992|      120|Afghanistan|AFG|2011|         4|\n",
      "+-----------+----+----+---------+-----------+---+----+----------+\n",
      "only showing top 20 rows\n",
      "\n"
     ]
    }
   ],
   "source": [
    "df_new = df.join(df1, df.Entity==df1.Entit)\n",
    "df_new.show()"
   ]
  },
  {
   "cell_type": "code",
   "execution_count": 11,
   "id": "cf7db0ea-d288-46bb-8f8d-2a8cdde4b83b",
   "metadata": {
    "tags": []
   },
   "outputs": [
    {
     "name": "stdout",
     "output_type": "stream",
     "text": [
      "+-----------+----+----+---------+----------+\n",
      "|     Entity|Code|Year|Incidence|Tbpatients|\n",
      "+-----------+----+----+---------+----------+\n",
      "|Afghanistan| AFG|1990|       88|         8|\n",
      "|Afghanistan| AFG|1990|       88|         3|\n",
      "|Afghanistan| AFG|1990|       88|         5|\n",
      "|Afghanistan| AFG|1990|       88|         4|\n",
      "|Afghanistan| AFG|1990|       88|         2|\n",
      "|Afghanistan| AFG|1990|       88|         5|\n",
      "|Afghanistan| AFG|1990|       88|         0|\n",
      "|Afghanistan| AFG|1990|       88|         0|\n",
      "|Afghanistan| AFG|1991|      104|         8|\n",
      "|Afghanistan| AFG|1991|      104|         3|\n",
      "|Afghanistan| AFG|1991|      104|         5|\n",
      "|Afghanistan| AFG|1991|      104|         4|\n",
      "|Afghanistan| AFG|1991|      104|         2|\n",
      "|Afghanistan| AFG|1991|      104|         5|\n",
      "|Afghanistan| AFG|1991|      104|         0|\n",
      "|Afghanistan| AFG|1991|      104|         0|\n",
      "|Afghanistan| AFG|1992|      120|         8|\n",
      "|Afghanistan| AFG|1992|      120|         3|\n",
      "|Afghanistan| AFG|1992|      120|         5|\n",
      "|Afghanistan| AFG|1992|      120|         4|\n",
      "+-----------+----+----+---------+----------+\n",
      "only showing top 20 rows\n",
      "\n"
     ]
    }
   ],
   "source": [
    "from pyspark.sql.functions import col\n",
    "\n",
    "# récupérer la liste des noms de colonnes du dataframe\n",
    "cols = df_new.columns\n",
    "\n",
    "# supprimer les colonnes 4, 5 et 6 du dataframe\n",
    "cols_to_drop = [cols[4], cols[5], cols[6]]\n",
    "df_ = df_new.drop(*cols_to_drop)\n",
    "df_.show()"
   ]
  },
  {
   "cell_type": "code",
   "execution_count": 12,
   "id": "a3ad6cce-ef6b-4940-853b-8d27204fa919",
   "metadata": {
    "tags": []
   },
   "outputs": [
    {
     "name": "stdout",
     "output_type": "stream",
     "text": [
      "+-----------+----+----+-------------------------------------------------------------------+\n",
      "|     Entity|Code|Year|Estimated TB-related deaths among people living with HIV - estimate|\n",
      "+-----------+----+----+-------------------------------------------------------------------+\n",
      "|Afghanistan| AFG|2000|                                                            87.0184|\n",
      "|Afghanistan| AFG|2001|                                                            74.7313|\n",
      "|Afghanistan| AFG|2002|                                                            67.5944|\n",
      "|Afghanistan| AFG|2003|                                                            69.5065|\n",
      "|Afghanistan| AFG|2004|                                                            65.7143|\n",
      "|Afghanistan| AFG|2005|                                                            64.4447|\n",
      "|Afghanistan| AFG|2006|                                                            62.2394|\n",
      "|Afghanistan| AFG|2007|                                                            60.0473|\n",
      "|Afghanistan| AFG|2008|                                                            66.4017|\n",
      "|Afghanistan| AFG|2009|                                                            76.5272|\n",
      "|Afghanistan| AFG|2010|                                                            80.4727|\n",
      "|Afghanistan| AFG|2011|                                                            89.6658|\n",
      "|Afghanistan| AFG|2012|                                                            97.8129|\n",
      "|Afghanistan| AFG|2013|                                                            102.495|\n",
      "|Afghanistan| AFG|2014|                                                            110.409|\n",
      "|Afghanistan| AFG|2015|                                                            105.271|\n",
      "|Afghanistan| AFG|2016|                                                             95.512|\n",
      "|    Albania| ALB|2000|                                                           0.155922|\n",
      "|    Albania| ALB|2001|                                                           0.146305|\n",
      "|    Albania| ALB|2002|                                                            0.16979|\n",
      "+-----------+----+----+-------------------------------------------------------------------+\n",
      "only showing top 20 rows\n",
      "\n"
     ]
    }
   ],
   "source": [
    "df2 = spark.read.load('tb-related-deaths-hiv.csv', format='com.databricks.spark.csv',header='true',sep=',',inferSchema='true')\n",
    "df2.show()\n"
   ]
  },
  {
   "cell_type": "code",
   "execution_count": 13,
   "id": "f35f1789-edb2-4e0c-bda4-6222fb85b6f8",
   "metadata": {
    "tags": []
   },
   "outputs": [
    {
     "name": "stdout",
     "output_type": "stream",
     "text": [
      "+-----------+---+----+----------+\n",
      "|       Enti| Co|  Ye|TB-related|\n",
      "+-----------+---+----+----------+\n",
      "|Afghanistan|AFG|2000|   87.0184|\n",
      "|Afghanistan|AFG|2001|   74.7313|\n",
      "|Afghanistan|AFG|2002|   67.5944|\n",
      "|Afghanistan|AFG|2003|   69.5065|\n",
      "|Afghanistan|AFG|2004|   65.7143|\n",
      "|Afghanistan|AFG|2005|   64.4447|\n",
      "|Afghanistan|AFG|2006|   62.2394|\n",
      "|Afghanistan|AFG|2007|   60.0473|\n",
      "|Afghanistan|AFG|2008|   66.4017|\n",
      "|Afghanistan|AFG|2009|   76.5272|\n",
      "|Afghanistan|AFG|2010|   80.4727|\n",
      "|Afghanistan|AFG|2011|   89.6658|\n",
      "|Afghanistan|AFG|2012|   97.8129|\n",
      "|Afghanistan|AFG|2013|   102.495|\n",
      "|Afghanistan|AFG|2014|   110.409|\n",
      "|Afghanistan|AFG|2015|   105.271|\n",
      "|Afghanistan|AFG|2016|    95.512|\n",
      "|    Albania|ALB|2000|  0.155922|\n",
      "|    Albania|ALB|2001|  0.146305|\n",
      "|    Albania|ALB|2002|   0.16979|\n",
      "+-----------+---+----+----------+\n",
      "only showing top 20 rows\n",
      "\n"
     ]
    }
   ],
   "source": [
    "from pyspark.sql.functions import col\n",
    "df2 = df2.withColumnRenamed(\"Entity\", \"Enti\")\n",
    "df2 = df2.withColumnRenamed(\"Code\", \"Co\")\n",
    "df2 = df2.withColumnRenamed(\"Year\", \"Ye\")\n",
    "df2 = df2.withColumnRenamed(\"Estimated TB-related deaths among people living with HIV - estimate\", \"TB-related\")\n",
    "df2.show()"
   ]
  },
  {
   "cell_type": "code",
   "execution_count": 14,
   "id": "0bdd7048-2e70-4934-8a7f-1c201a6b776a",
   "metadata": {
    "tags": []
   },
   "outputs": [
    {
     "name": "stdout",
     "output_type": "stream",
     "text": [
      "+-----------+----+----+---------+----------+-----------+---+----+----------+\n",
      "|     Entity|Code|Year|Incidence|Tbpatients|       Enti| Co|  Ye|TB-related|\n",
      "+-----------+----+----+---------+----------+-----------+---+----+----------+\n",
      "|Afghanistan| AFG|1990|       88|         8|Afghanistan|AFG|2016|    95.512|\n",
      "|Afghanistan| AFG|1990|       88|         8|Afghanistan|AFG|2015|   105.271|\n",
      "|Afghanistan| AFG|1990|       88|         8|Afghanistan|AFG|2014|   110.409|\n",
      "|Afghanistan| AFG|1990|       88|         8|Afghanistan|AFG|2013|   102.495|\n",
      "|Afghanistan| AFG|1990|       88|         8|Afghanistan|AFG|2012|   97.8129|\n",
      "|Afghanistan| AFG|1990|       88|         8|Afghanistan|AFG|2011|   89.6658|\n",
      "|Afghanistan| AFG|1990|       88|         8|Afghanistan|AFG|2010|   80.4727|\n",
      "|Afghanistan| AFG|1990|       88|         8|Afghanistan|AFG|2009|   76.5272|\n",
      "|Afghanistan| AFG|1990|       88|         8|Afghanistan|AFG|2008|   66.4017|\n",
      "|Afghanistan| AFG|1990|       88|         8|Afghanistan|AFG|2007|   60.0473|\n",
      "|Afghanistan| AFG|1990|       88|         8|Afghanistan|AFG|2006|   62.2394|\n",
      "|Afghanistan| AFG|1990|       88|         8|Afghanistan|AFG|2005|   64.4447|\n",
      "|Afghanistan| AFG|1990|       88|         8|Afghanistan|AFG|2004|   65.7143|\n",
      "|Afghanistan| AFG|1990|       88|         8|Afghanistan|AFG|2003|   69.5065|\n",
      "|Afghanistan| AFG|1990|       88|         8|Afghanistan|AFG|2002|   67.5944|\n",
      "|Afghanistan| AFG|1990|       88|         8|Afghanistan|AFG|2001|   74.7313|\n",
      "|Afghanistan| AFG|1990|       88|         8|Afghanistan|AFG|2000|   87.0184|\n",
      "|Afghanistan| AFG|1990|       88|         3|Afghanistan|AFG|2016|    95.512|\n",
      "|Afghanistan| AFG|1990|       88|         3|Afghanistan|AFG|2015|   105.271|\n",
      "|Afghanistan| AFG|1990|       88|         3|Afghanistan|AFG|2014|   110.409|\n",
      "+-----------+----+----+---------+----------+-----------+---+----+----------+\n",
      "only showing top 20 rows\n",
      "\n"
     ]
    }
   ],
   "source": [
    "df_ne = df_.join(df2, df_.Entity==df2.Enti)\n",
    "df_ne.show()"
   ]
  },
  {
   "cell_type": "code",
   "execution_count": 15,
   "id": "8ff6bb1f-37fe-4074-91fb-aad1f2f5f64c",
   "metadata": {
    "tags": []
   },
   "outputs": [
    {
     "name": "stdout",
     "output_type": "stream",
     "text": [
      "+-----------+----+----+---------+----------+----------+\n",
      "|     Entity|Code|Year|Incidence|Tbpatients|TB-related|\n",
      "+-----------+----+----+---------+----------+----------+\n",
      "|Afghanistan| AFG|1990|       88|         8|    95.512|\n",
      "|Afghanistan| AFG|1990|       88|         8|   105.271|\n",
      "|Afghanistan| AFG|1990|       88|         8|   110.409|\n",
      "|Afghanistan| AFG|1990|       88|         8|   102.495|\n",
      "|Afghanistan| AFG|1990|       88|         8|   97.8129|\n",
      "|Afghanistan| AFG|1990|       88|         8|   89.6658|\n",
      "|Afghanistan| AFG|1990|       88|         8|   80.4727|\n",
      "|Afghanistan| AFG|1990|       88|         8|   76.5272|\n",
      "|Afghanistan| AFG|1990|       88|         8|   66.4017|\n",
      "|Afghanistan| AFG|1990|       88|         8|   60.0473|\n",
      "|Afghanistan| AFG|1990|       88|         8|   62.2394|\n",
      "|Afghanistan| AFG|1990|       88|         8|   64.4447|\n",
      "|Afghanistan| AFG|1990|       88|         8|   65.7143|\n",
      "|Afghanistan| AFG|1990|       88|         8|   69.5065|\n",
      "|Afghanistan| AFG|1990|       88|         8|   67.5944|\n",
      "|Afghanistan| AFG|1990|       88|         8|   74.7313|\n",
      "|Afghanistan| AFG|1990|       88|         8|   87.0184|\n",
      "|Afghanistan| AFG|1990|       88|         3|    95.512|\n",
      "|Afghanistan| AFG|1990|       88|         3|   105.271|\n",
      "|Afghanistan| AFG|1990|       88|         3|   110.409|\n",
      "+-----------+----+----+---------+----------+----------+\n",
      "only showing top 20 rows\n",
      "\n"
     ]
    }
   ],
   "source": [
    "from pyspark.sql.functions import col\n",
    "\n",
    "# récupérer la liste des noms de colonnes du dataframe\n",
    "cols = df_ne.columns\n",
    "\n",
    "# supprimer les colonnes 4, 5 et 6 du dataframe\n",
    "cols_to_drop = [cols[5], cols[6], cols[7]]\n",
    "DF = df_ne.drop(*cols_to_drop)\n",
    "DF.show()"
   ]
  },
  {
   "cell_type": "code",
   "execution_count": 16,
   "id": "feefb8e6-ea2b-4679-8694-5721ba0a1b7e",
   "metadata": {
    "tags": []
   },
   "outputs": [
    {
     "name": "stdout",
     "output_type": "stream",
     "text": [
      "+-----------+----+----+---------------------------+-----------------------------------------+---------------------------+\n",
      "|     Entity|Code|Year|Incidence - VIH/SIDA - Sexe|TB patients living with HIV receiving ART|Estimated TB-related deaths|\n",
      "+-----------+----+----+---------------------------+-----------------------------------------+---------------------------+\n",
      "|Afghanistan| AFG|1990|                         88|                                        8|                     95.512|\n",
      "|Afghanistan| AFG|1990|                         88|                                        8|                    105.271|\n",
      "|Afghanistan| AFG|1990|                         88|                                        8|                    110.409|\n",
      "|Afghanistan| AFG|1990|                         88|                                        8|                    102.495|\n",
      "|Afghanistan| AFG|1990|                         88|                                        8|                    97.8129|\n",
      "|Afghanistan| AFG|1990|                         88|                                        8|                    89.6658|\n",
      "|Afghanistan| AFG|1990|                         88|                                        8|                    80.4727|\n",
      "|Afghanistan| AFG|1990|                         88|                                        8|                    76.5272|\n",
      "|Afghanistan| AFG|1990|                         88|                                        8|                    66.4017|\n",
      "|Afghanistan| AFG|1990|                         88|                                        8|                    60.0473|\n",
      "|Afghanistan| AFG|1990|                         88|                                        8|                    62.2394|\n",
      "|Afghanistan| AFG|1990|                         88|                                        8|                    64.4447|\n",
      "|Afghanistan| AFG|1990|                         88|                                        8|                    65.7143|\n",
      "|Afghanistan| AFG|1990|                         88|                                        8|                    69.5065|\n",
      "|Afghanistan| AFG|1990|                         88|                                        8|                    67.5944|\n",
      "|Afghanistan| AFG|1990|                         88|                                        8|                    74.7313|\n",
      "|Afghanistan| AFG|1990|                         88|                                        8|                    87.0184|\n",
      "|Afghanistan| AFG|1990|                         88|                                        3|                     95.512|\n",
      "|Afghanistan| AFG|1990|                         88|                                        3|                    105.271|\n",
      "|Afghanistan| AFG|1990|                         88|                                        3|                    110.409|\n",
      "+-----------+----+----+---------------------------+-----------------------------------------+---------------------------+\n",
      "only showing top 20 rows\n",
      "\n"
     ]
    }
   ],
   "source": [
    "from pyspark.sql.functions import col\n",
    "DF = DF.withColumnRenamed(\"Incidence\", \"Incidence - VIH/SIDA - Sexe\")\n",
    "DF = DF.withColumnRenamed(\"Tbpatients\", \"TB patients living with HIV receiving ART\")\n",
    "DF = DF.withColumnRenamed(\"TB-related\" , \"Estimated TB-related deaths\")\n",
    "DF.show()\n"
   ]
  },
  {
   "cell_type": "code",
   "execution_count": 19,
   "id": "2d4eb276",
   "metadata": {
    "tags": []
   },
   "outputs": [
    {
     "ename": "ValueError",
     "evalue": "DataFrame constructor not properly called!",
     "output_type": "error",
     "traceback": [
      "\u001b[0;31m---------------------------------------------------------------------------\u001b[0m",
      "\u001b[0;31mValueError\u001b[0m                                Traceback (most recent call last)",
      "Cell \u001b[0;32mIn[19], line 2\u001b[0m\n\u001b[1;32m      1\u001b[0m \u001b[38;5;28;01mimport\u001b[39;00m \u001b[38;5;21;01mpandas\u001b[39;00m \u001b[38;5;28;01mas\u001b[39;00m \u001b[38;5;21;01mpd\u001b[39;00m\n\u001b[0;32m----> 2\u001b[0m df_pd \u001b[38;5;241m=\u001b[39m \u001b[43mpd\u001b[49m\u001b[38;5;241;43m.\u001b[39;49m\u001b[43mDataFrame\u001b[49m\u001b[43m(\u001b[49m\u001b[43mDF\u001b[49m\u001b[43m)\u001b[49m\n\u001b[1;32m      3\u001b[0m df_pd\u001b[38;5;241m.\u001b[39mto_csv(\u001b[38;5;124m'\u001b[39m\u001b[38;5;124mdij.csv\u001b[39m\u001b[38;5;124m'\u001b[39m, index\u001b[38;5;241m=\u001b[39m\u001b[38;5;28;01mFalse\u001b[39;00m)\n",
      "File \u001b[0;32m/opt/conda/lib/python3.10/site-packages/pandas/core/frame.py:816\u001b[0m, in \u001b[0;36mDataFrame.__init__\u001b[0;34m(self, data, index, columns, dtype, copy)\u001b[0m\n\u001b[1;32m    813\u001b[0m \u001b[38;5;66;03m# For data is scalar\u001b[39;00m\n\u001b[1;32m    814\u001b[0m \u001b[38;5;28;01melse\u001b[39;00m:\n\u001b[1;32m    815\u001b[0m     \u001b[38;5;28;01mif\u001b[39;00m index \u001b[38;5;129;01mis\u001b[39;00m \u001b[38;5;28;01mNone\u001b[39;00m \u001b[38;5;129;01mor\u001b[39;00m columns \u001b[38;5;129;01mis\u001b[39;00m \u001b[38;5;28;01mNone\u001b[39;00m:\n\u001b[0;32m--> 816\u001b[0m         \u001b[38;5;28;01mraise\u001b[39;00m \u001b[38;5;167;01mValueError\u001b[39;00m(\u001b[38;5;124m\"\u001b[39m\u001b[38;5;124mDataFrame constructor not properly called!\u001b[39m\u001b[38;5;124m\"\u001b[39m)\n\u001b[1;32m    818\u001b[0m     index \u001b[38;5;241m=\u001b[39m ensure_index(index)\n\u001b[1;32m    819\u001b[0m     columns \u001b[38;5;241m=\u001b[39m ensure_index(columns)\n",
      "\u001b[0;31mValueError\u001b[0m: DataFrame constructor not properly called!"
     ]
    }
   ],
   "source": [
    "import pandas as pd\n",
    "df_pd = pd.DataFrame(DF)\n",
    "df_pd.to_csv('dij.csv', index=False)"
   ]
  },
  {
   "cell_type": "code",
   "execution_count": 18,
   "id": "6829372b-1096-400f-92d8-8d34cd29acb0",
   "metadata": {},
   "outputs": [
    {
     "name": "stdout",
     "output_type": "stream",
     "text": [
      "root\n",
      " |-- Entity: string (nullable = true)\n",
      " |-- Code: string (nullable = true)\n",
      " |-- Year: integer (nullable = true)\n",
      " |-- Incidence - VIH/SIDA - Sexe: integer (nullable = true)\n",
      " |-- TB patients living with HIV receiving ART: integer (nullable = true)\n",
      " |-- Estimated TB-related deaths: double (nullable = true)\n",
      "\n",
      "+-----------+----+----+---------------------------+-----------------------------------------+---------------------------+\n",
      "|     Entity|Code|Year|Incidence - VIH/SIDA - Sexe|TB patients living with HIV receiving ART|Estimated TB-related deaths|\n",
      "+-----------+----+----+---------------------------+-----------------------------------------+---------------------------+\n",
      "|Afghanistan| AFG|1990|                         88|                                        8|                     95.512|\n",
      "|Afghanistan| AFG|1990|                         88|                                        8|                    105.271|\n",
      "|Afghanistan| AFG|1990|                         88|                                        8|                    110.409|\n",
      "|Afghanistan| AFG|1990|                         88|                                        8|                    102.495|\n",
      "|Afghanistan| AFG|1990|                         88|                                        8|                    97.8129|\n",
      "|Afghanistan| AFG|1990|                         88|                                        8|                    89.6658|\n",
      "|Afghanistan| AFG|1990|                         88|                                        8|                    80.4727|\n",
      "|Afghanistan| AFG|1990|                         88|                                        8|                    76.5272|\n",
      "|Afghanistan| AFG|1990|                         88|                                        8|                    66.4017|\n",
      "|Afghanistan| AFG|1990|                         88|                                        8|                    60.0473|\n",
      "|Afghanistan| AFG|1990|                         88|                                        8|                    62.2394|\n",
      "|Afghanistan| AFG|1990|                         88|                                        8|                    64.4447|\n",
      "|Afghanistan| AFG|1990|                         88|                                        8|                    65.7143|\n",
      "|Afghanistan| AFG|1990|                         88|                                        8|                    69.5065|\n",
      "|Afghanistan| AFG|1990|                         88|                                        8|                    67.5944|\n",
      "|Afghanistan| AFG|1990|                         88|                                        8|                    74.7313|\n",
      "|Afghanistan| AFG|1990|                         88|                                        8|                    87.0184|\n",
      "|Afghanistan| AFG|1990|                         88|                                        3|                     95.512|\n",
      "|Afghanistan| AFG|1990|                         88|                                        3|                    105.271|\n",
      "|Afghanistan| AFG|1990|                         88|                                        3|                    110.409|\n",
      "+-----------+----+----+---------------------------+-----------------------------------------+---------------------------+\n",
      "only showing top 20 rows\n",
      "\n"
     ]
    },
    {
     "name": "stderr",
     "output_type": "stream",
     "text": [
      "ERROR:root:Exception while sending command.\n",
      "Traceback (most recent call last):\n",
      "  File \"/usr/local/spark/python/lib/py4j-0.10.9.7-src.zip/py4j/clientserver.py\", line 516, in send_command\n",
      "    raise Py4JNetworkError(\"Answer from Java side is empty\")\n",
      "py4j.protocol.Py4JNetworkError: Answer from Java side is empty\n",
      "\n",
      "During handling of the above exception, another exception occurred:\n",
      "\n",
      "Traceback (most recent call last):\n",
      "  File \"/usr/local/spark/python/lib/py4j-0.10.9.7-src.zip/py4j/java_gateway.py\", line 1038, in send_command\n",
      "    response = connection.send_command(command)\n",
      "  File \"/usr/local/spark/python/lib/py4j-0.10.9.7-src.zip/py4j/clientserver.py\", line 539, in send_command\n",
      "    raise Py4JNetworkError(\n",
      "py4j.protocol.Py4JNetworkError: Error while sending or receiving\n",
      "ERROR:root:Exception while sending command.\n",
      "Traceback (most recent call last):\n",
      "  File \"/usr/local/spark/python/lib/py4j-0.10.9.7-src.zip/py4j/clientserver.py\", line 516, in send_command\n",
      "    raise Py4JNetworkError(\"Answer from Java side is empty\")\n",
      "py4j.protocol.Py4JNetworkError: Answer from Java side is empty\n",
      "\n",
      "During handling of the above exception, another exception occurred:\n",
      "\n",
      "Traceback (most recent call last):\n",
      "  File \"/usr/local/spark/python/lib/py4j-0.10.9.7-src.zip/py4j/java_gateway.py\", line 1038, in send_command\n",
      "    response = connection.send_command(command)\n",
      "  File \"/usr/local/spark/python/lib/py4j-0.10.9.7-src.zip/py4j/clientserver.py\", line 539, in send_command\n",
      "    raise Py4JNetworkError(\n",
      "py4j.protocol.Py4JNetworkError: Error while sending or receiving\n"
     ]
    },
    {
     "ename": "Py4JError",
     "evalue": "An error occurred while calling o100.showString",
     "output_type": "error",
     "traceback": [
      "\u001b[0;31m---------------------------------------------------------------------------\u001b[0m",
      "\u001b[0;31mPy4JError\u001b[0m                                 Traceback (most recent call last)",
      "Cell \u001b[0;32mIn[18], line 3\u001b[0m\n\u001b[1;32m      1\u001b[0m DF\u001b[38;5;241m.\u001b[39mprintSchema()\n\u001b[1;32m      2\u001b[0m DF\u001b[38;5;241m.\u001b[39mshow()\n\u001b[0;32m----> 3\u001b[0m \u001b[43mDF\u001b[49m\u001b[38;5;241;43m.\u001b[39;49m\u001b[43mdescribe\u001b[49m\u001b[43m(\u001b[49m\u001b[43m)\u001b[49m\u001b[38;5;241;43m.\u001b[39;49m\u001b[43mshow\u001b[49m\u001b[43m(\u001b[49m\u001b[43m)\u001b[49m\n\u001b[1;32m      5\u001b[0m \u001b[38;5;66;03m# Nettoyer les données\u001b[39;00m\n\u001b[1;32m      6\u001b[0m DF_clean \u001b[38;5;241m=\u001b[39m DF\u001b[38;5;241m.\u001b[39mdropna()\n",
      "File \u001b[0;32m/usr/local/spark/python/pyspark/sql/dataframe.py:899\u001b[0m, in \u001b[0;36mDataFrame.show\u001b[0;34m(self, n, truncate, vertical)\u001b[0m\n\u001b[1;32m    893\u001b[0m     \u001b[38;5;28;01mraise\u001b[39;00m PySparkTypeError(\n\u001b[1;32m    894\u001b[0m         error_class\u001b[38;5;241m=\u001b[39m\u001b[38;5;124m\"\u001b[39m\u001b[38;5;124mNOT_BOOL\u001b[39m\u001b[38;5;124m\"\u001b[39m,\n\u001b[1;32m    895\u001b[0m         message_parameters\u001b[38;5;241m=\u001b[39m{\u001b[38;5;124m\"\u001b[39m\u001b[38;5;124marg_name\u001b[39m\u001b[38;5;124m\"\u001b[39m: \u001b[38;5;124m\"\u001b[39m\u001b[38;5;124mvertical\u001b[39m\u001b[38;5;124m\"\u001b[39m, \u001b[38;5;124m\"\u001b[39m\u001b[38;5;124marg_type\u001b[39m\u001b[38;5;124m\"\u001b[39m: \u001b[38;5;28mtype\u001b[39m(vertical)\u001b[38;5;241m.\u001b[39m\u001b[38;5;18m__name__\u001b[39m},\n\u001b[1;32m    896\u001b[0m     )\n\u001b[1;32m    898\u001b[0m \u001b[38;5;28;01mif\u001b[39;00m \u001b[38;5;28misinstance\u001b[39m(truncate, \u001b[38;5;28mbool\u001b[39m) \u001b[38;5;129;01mand\u001b[39;00m truncate:\n\u001b[0;32m--> 899\u001b[0m     \u001b[38;5;28mprint\u001b[39m(\u001b[38;5;28;43mself\u001b[39;49m\u001b[38;5;241;43m.\u001b[39;49m\u001b[43m_jdf\u001b[49m\u001b[38;5;241;43m.\u001b[39;49m\u001b[43mshowString\u001b[49m\u001b[43m(\u001b[49m\u001b[43mn\u001b[49m\u001b[43m,\u001b[49m\u001b[43m \u001b[49m\u001b[38;5;241;43m20\u001b[39;49m\u001b[43m,\u001b[49m\u001b[43m \u001b[49m\u001b[43mvertical\u001b[49m\u001b[43m)\u001b[49m)\n\u001b[1;32m    900\u001b[0m \u001b[38;5;28;01melse\u001b[39;00m:\n\u001b[1;32m    901\u001b[0m     \u001b[38;5;28;01mtry\u001b[39;00m:\n",
      "File \u001b[0;32m/usr/local/spark/python/lib/py4j-0.10.9.7-src.zip/py4j/java_gateway.py:1322\u001b[0m, in \u001b[0;36mJavaMember.__call__\u001b[0;34m(self, *args)\u001b[0m\n\u001b[1;32m   1316\u001b[0m command \u001b[38;5;241m=\u001b[39m proto\u001b[38;5;241m.\u001b[39mCALL_COMMAND_NAME \u001b[38;5;241m+\u001b[39m\\\n\u001b[1;32m   1317\u001b[0m     \u001b[38;5;28mself\u001b[39m\u001b[38;5;241m.\u001b[39mcommand_header \u001b[38;5;241m+\u001b[39m\\\n\u001b[1;32m   1318\u001b[0m     args_command \u001b[38;5;241m+\u001b[39m\\\n\u001b[1;32m   1319\u001b[0m     proto\u001b[38;5;241m.\u001b[39mEND_COMMAND_PART\n\u001b[1;32m   1321\u001b[0m answer \u001b[38;5;241m=\u001b[39m \u001b[38;5;28mself\u001b[39m\u001b[38;5;241m.\u001b[39mgateway_client\u001b[38;5;241m.\u001b[39msend_command(command)\n\u001b[0;32m-> 1322\u001b[0m return_value \u001b[38;5;241m=\u001b[39m \u001b[43mget_return_value\u001b[49m\u001b[43m(\u001b[49m\n\u001b[1;32m   1323\u001b[0m \u001b[43m    \u001b[49m\u001b[43manswer\u001b[49m\u001b[43m,\u001b[49m\u001b[43m \u001b[49m\u001b[38;5;28;43mself\u001b[39;49m\u001b[38;5;241;43m.\u001b[39;49m\u001b[43mgateway_client\u001b[49m\u001b[43m,\u001b[49m\u001b[43m \u001b[49m\u001b[38;5;28;43mself\u001b[39;49m\u001b[38;5;241;43m.\u001b[39;49m\u001b[43mtarget_id\u001b[49m\u001b[43m,\u001b[49m\u001b[43m \u001b[49m\u001b[38;5;28;43mself\u001b[39;49m\u001b[38;5;241;43m.\u001b[39;49m\u001b[43mname\u001b[49m\u001b[43m)\u001b[49m\n\u001b[1;32m   1325\u001b[0m \u001b[38;5;28;01mfor\u001b[39;00m temp_arg \u001b[38;5;129;01min\u001b[39;00m temp_args:\n\u001b[1;32m   1326\u001b[0m     \u001b[38;5;28;01mif\u001b[39;00m \u001b[38;5;28mhasattr\u001b[39m(temp_arg, \u001b[38;5;124m\"\u001b[39m\u001b[38;5;124m_detach\u001b[39m\u001b[38;5;124m\"\u001b[39m):\n",
      "File \u001b[0;32m/usr/local/spark/python/pyspark/errors/exceptions/captured.py:169\u001b[0m, in \u001b[0;36mcapture_sql_exception.<locals>.deco\u001b[0;34m(*a, **kw)\u001b[0m\n\u001b[1;32m    167\u001b[0m \u001b[38;5;28;01mdef\u001b[39;00m \u001b[38;5;21mdeco\u001b[39m(\u001b[38;5;241m*\u001b[39ma: Any, \u001b[38;5;241m*\u001b[39m\u001b[38;5;241m*\u001b[39mkw: Any) \u001b[38;5;241m-\u001b[39m\u001b[38;5;241m>\u001b[39m Any:\n\u001b[1;32m    168\u001b[0m     \u001b[38;5;28;01mtry\u001b[39;00m:\n\u001b[0;32m--> 169\u001b[0m         \u001b[38;5;28;01mreturn\u001b[39;00m \u001b[43mf\u001b[49m\u001b[43m(\u001b[49m\u001b[38;5;241;43m*\u001b[39;49m\u001b[43ma\u001b[49m\u001b[43m,\u001b[49m\u001b[43m \u001b[49m\u001b[38;5;241;43m*\u001b[39;49m\u001b[38;5;241;43m*\u001b[39;49m\u001b[43mkw\u001b[49m\u001b[43m)\u001b[49m\n\u001b[1;32m    170\u001b[0m     \u001b[38;5;28;01mexcept\u001b[39;00m Py4JJavaError \u001b[38;5;28;01mas\u001b[39;00m e:\n\u001b[1;32m    171\u001b[0m         converted \u001b[38;5;241m=\u001b[39m convert_exception(e\u001b[38;5;241m.\u001b[39mjava_exception)\n",
      "File \u001b[0;32m/usr/local/spark/python/lib/py4j-0.10.9.7-src.zip/py4j/protocol.py:334\u001b[0m, in \u001b[0;36mget_return_value\u001b[0;34m(answer, gateway_client, target_id, name)\u001b[0m\n\u001b[1;32m    330\u001b[0m             \u001b[38;5;28;01mraise\u001b[39;00m Py4JError(\n\u001b[1;32m    331\u001b[0m                 \u001b[38;5;124m\"\u001b[39m\u001b[38;5;124mAn error occurred while calling \u001b[39m\u001b[38;5;132;01m{0}\u001b[39;00m\u001b[38;5;132;01m{1}\u001b[39;00m\u001b[38;5;132;01m{2}\u001b[39;00m\u001b[38;5;124m. Trace:\u001b[39m\u001b[38;5;130;01m\\n\u001b[39;00m\u001b[38;5;132;01m{3}\u001b[39;00m\u001b[38;5;130;01m\\n\u001b[39;00m\u001b[38;5;124m\"\u001b[39m\u001b[38;5;241m.\u001b[39m\n\u001b[1;32m    332\u001b[0m                 \u001b[38;5;28mformat\u001b[39m(target_id, \u001b[38;5;124m\"\u001b[39m\u001b[38;5;124m.\u001b[39m\u001b[38;5;124m\"\u001b[39m, name, value))\n\u001b[1;32m    333\u001b[0m     \u001b[38;5;28;01melse\u001b[39;00m:\n\u001b[0;32m--> 334\u001b[0m         \u001b[38;5;28;01mraise\u001b[39;00m Py4JError(\n\u001b[1;32m    335\u001b[0m             \u001b[38;5;124m\"\u001b[39m\u001b[38;5;124mAn error occurred while calling \u001b[39m\u001b[38;5;132;01m{0}\u001b[39;00m\u001b[38;5;132;01m{1}\u001b[39;00m\u001b[38;5;132;01m{2}\u001b[39;00m\u001b[38;5;124m\"\u001b[39m\u001b[38;5;241m.\u001b[39m\n\u001b[1;32m    336\u001b[0m             \u001b[38;5;28mformat\u001b[39m(target_id, \u001b[38;5;124m\"\u001b[39m\u001b[38;5;124m.\u001b[39m\u001b[38;5;124m\"\u001b[39m, name))\n\u001b[1;32m    337\u001b[0m \u001b[38;5;28;01melse\u001b[39;00m:\n\u001b[1;32m    338\u001b[0m     \u001b[38;5;28mtype\u001b[39m \u001b[38;5;241m=\u001b[39m answer[\u001b[38;5;241m1\u001b[39m]\n",
      "\u001b[0;31mPy4JError\u001b[0m: An error occurred while calling o100.showString"
     ]
    }
   ],
   "source": [
    "DF.printSchema()\n",
    "DF.show()\n",
    "DF.describe().show()\n",
    "\n",
    "# Nettoyer les données\n",
    "DF_clean = DF.dropna()\n",
    "DF_clean = DF_clean.dropDuplicates()\n",
    "DF_clean = DF_clean.filter(\"Year > 2010\")\n",
    "\n",
    "# Analyser les données\n",
    "DF_populations = DF_clean.groupBy(\"Entity\").agg({\"Incidence - VIH/SIDA - Sexe\": \"mean\", \n",
    "                                                   \"TB patients living with HIV receiving ART\": \"sum\",\n",
    "                                                   \"Estimated TB-related deaths\": \"sum\"})"
   ]
  },
  {
   "cell_type": "code",
   "execution_count": null,
   "id": "5dc34ba4-8750-432b-8cfc-00abb50d92e9",
   "metadata": {},
   "outputs": [],
   "source": [
    "from pyspark.sql.functions import to_date\n",
    "# Afficher le schéma du dataframe\n",
    "DF.printSchema()\n",
    "\n",
    "# Convertir la colonne \"year\" en type \"date\"\n",
    "DF = DF.withColumn(\"Year\", to_date(DF[\"Year\"].cast(\"string\"), \"yyyy\"))\n",
    "\n",
    "# Afficher le schéma du dataframe mis à jour\n",
    "DF.printSchema()\n"
   ]
  },
  {
   "cell_type": "code",
   "execution_count": null,
   "id": "2c8566be-540c-4aaf-b9f3-2265804a1016",
   "metadata": {},
   "outputs": [],
   "source": [
    "DF.show()"
   ]
  },
  {
   "cell_type": "code",
   "execution_count": null,
   "id": "4d572cf2-5c4a-4287-8bea-daa145c184e0",
   "metadata": {},
   "outputs": [],
   "source": [
    "nb_row = DF.count()\n",
    "print(\"nombre total de ligne:\", nb_row )"
   ]
  },
  {
   "cell_type": "code",
   "execution_count": 20,
   "id": "84f87c22-f7b1-4be7-8686-2ba248eeffdc",
   "metadata": {},
   "outputs": [
    {
     "name": "stderr",
     "output_type": "stream",
     "text": [
      "ERROR:root:Exception while sending command.\n",
      "Traceback (most recent call last):\n",
      "  File \"/usr/local/spark/python/lib/py4j-0.10.7-src.zip/py4j/java_gateway.py\", line 1159, in send_command\n",
      "    raise Py4JNetworkError(\"Answer from Java side is empty\")\n",
      "py4j.protocol.Py4JNetworkError: Answer from Java side is empty\n",
      "\n",
      "During handling of the above exception, another exception occurred:\n",
      "\n",
      "Traceback (most recent call last):\n",
      "  File \"/usr/local/spark/python/lib/py4j-0.10.7-src.zip/py4j/java_gateway.py\", line 985, in send_command\n",
      "    response = connection.send_command(command)\n",
      "  File \"/usr/local/spark/python/lib/py4j-0.10.7-src.zip/py4j/java_gateway.py\", line 1164, in send_command\n",
      "    \"Error while receiving\", e, proto.ERROR_ON_RECEIVE)\n",
      "py4j.protocol.Py4JNetworkError: Error while receiving\n"
     ]
    },
    {
     "ename": "Py4JError",
     "evalue": "An error occurred while calling o126.schema",
     "output_type": "error",
     "traceback": [
      "\u001b[0;31m---------------------------------------------------------------------------\u001b[0m",
      "\u001b[0;31mPy4JError\u001b[0m                                 Traceback (most recent call last)",
      "\u001b[0;32m<ipython-input-20-90922907404f>\u001b[0m in \u001b[0;36m<module>\u001b[0;34m\u001b[0m\n\u001b[1;32m      1\u001b[0m \u001b[0;32mfrom\u001b[0m \u001b[0mpyspark\u001b[0m\u001b[0;34m.\u001b[0m\u001b[0msql\u001b[0m\u001b[0;34m.\u001b[0m\u001b[0mfunctions\u001b[0m \u001b[0;32mimport\u001b[0m \u001b[0mcountDistinct\u001b[0m\u001b[0;34m\u001b[0m\u001b[0;34m\u001b[0m\u001b[0m\n\u001b[1;32m      2\u001b[0m \u001b[0;34m\u001b[0m\u001b[0m\n\u001b[0;32m----> 3\u001b[0;31m \u001b[0;32mfor\u001b[0m \u001b[0mcol\u001b[0m \u001b[0;32min\u001b[0m \u001b[0mDF\u001b[0m\u001b[0;34m.\u001b[0m\u001b[0mcolumns\u001b[0m\u001b[0;34m:\u001b[0m\u001b[0;34m\u001b[0m\u001b[0;34m\u001b[0m\u001b[0m\n\u001b[0m\u001b[1;32m      4\u001b[0m     \u001b[0mnum_distinct_values\u001b[0m \u001b[0;34m=\u001b[0m \u001b[0mDF\u001b[0m\u001b[0;34m.\u001b[0m\u001b[0mselect\u001b[0m\u001b[0;34m(\u001b[0m\u001b[0mcountDistinct\u001b[0m\u001b[0;34m(\u001b[0m\u001b[0mcol\u001b[0m\u001b[0;34m)\u001b[0m\u001b[0;34m)\u001b[0m\u001b[0;34m.\u001b[0m\u001b[0mcollect\u001b[0m\u001b[0;34m(\u001b[0m\u001b[0;34m)\u001b[0m\u001b[0;34m[\u001b[0m\u001b[0;36m0\u001b[0m\u001b[0;34m]\u001b[0m\u001b[0;34m[\u001b[0m\u001b[0;36m0\u001b[0m\u001b[0;34m]\u001b[0m\u001b[0;34m\u001b[0m\u001b[0;34m\u001b[0m\u001b[0m\n\u001b[1;32m      5\u001b[0m     \u001b[0mprint\u001b[0m\u001b[0;34m(\u001b[0m\u001b[0;34mf\"{col}: {num_distinct_values}\"\u001b[0m\u001b[0;34m)\u001b[0m\u001b[0;34m\u001b[0m\u001b[0;34m\u001b[0m\u001b[0m\n",
      "\u001b[0;32m/usr/local/spark/python/pyspark/sql/dataframe.py\u001b[0m in \u001b[0;36mcolumns\u001b[0;34m(self)\u001b[0m\n\u001b[1;32m    935\u001b[0m         \u001b[0;34m[\u001b[0m\u001b[0;34m'age'\u001b[0m\u001b[0;34m,\u001b[0m \u001b[0;34m'name'\u001b[0m\u001b[0;34m]\u001b[0m\u001b[0;34m\u001b[0m\u001b[0;34m\u001b[0m\u001b[0m\n\u001b[1;32m    936\u001b[0m         \"\"\"\n\u001b[0;32m--> 937\u001b[0;31m         \u001b[0;32mreturn\u001b[0m \u001b[0;34m[\u001b[0m\u001b[0mf\u001b[0m\u001b[0;34m.\u001b[0m\u001b[0mname\u001b[0m \u001b[0;32mfor\u001b[0m \u001b[0mf\u001b[0m \u001b[0;32min\u001b[0m \u001b[0mself\u001b[0m\u001b[0;34m.\u001b[0m\u001b[0mschema\u001b[0m\u001b[0;34m.\u001b[0m\u001b[0mfields\u001b[0m\u001b[0;34m]\u001b[0m\u001b[0;34m\u001b[0m\u001b[0;34m\u001b[0m\u001b[0m\n\u001b[0m\u001b[1;32m    938\u001b[0m \u001b[0;34m\u001b[0m\u001b[0m\n\u001b[1;32m    939\u001b[0m     \u001b[0;34m@\u001b[0m\u001b[0msince\u001b[0m\u001b[0;34m(\u001b[0m\u001b[0;36m2.3\u001b[0m\u001b[0;34m)\u001b[0m\u001b[0;34m\u001b[0m\u001b[0;34m\u001b[0m\u001b[0m\n",
      "\u001b[0;32m/usr/local/spark/python/pyspark/sql/dataframe.py\u001b[0m in \u001b[0;36mschema\u001b[0;34m(self)\u001b[0m\n\u001b[1;32m    253\u001b[0m         \u001b[0;32mif\u001b[0m \u001b[0mself\u001b[0m\u001b[0;34m.\u001b[0m\u001b[0m_schema\u001b[0m \u001b[0;32mis\u001b[0m \u001b[0;32mNone\u001b[0m\u001b[0;34m:\u001b[0m\u001b[0;34m\u001b[0m\u001b[0;34m\u001b[0m\u001b[0m\n\u001b[1;32m    254\u001b[0m             \u001b[0;32mtry\u001b[0m\u001b[0;34m:\u001b[0m\u001b[0;34m\u001b[0m\u001b[0;34m\u001b[0m\u001b[0m\n\u001b[0;32m--> 255\u001b[0;31m                 \u001b[0mself\u001b[0m\u001b[0;34m.\u001b[0m\u001b[0m_schema\u001b[0m \u001b[0;34m=\u001b[0m \u001b[0m_parse_datatype_json_string\u001b[0m\u001b[0;34m(\u001b[0m\u001b[0mself\u001b[0m\u001b[0;34m.\u001b[0m\u001b[0m_jdf\u001b[0m\u001b[0;34m.\u001b[0m\u001b[0mschema\u001b[0m\u001b[0;34m(\u001b[0m\u001b[0;34m)\u001b[0m\u001b[0;34m.\u001b[0m\u001b[0mjson\u001b[0m\u001b[0;34m(\u001b[0m\u001b[0;34m)\u001b[0m\u001b[0;34m)\u001b[0m\u001b[0;34m\u001b[0m\u001b[0;34m\u001b[0m\u001b[0m\n\u001b[0m\u001b[1;32m    256\u001b[0m             \u001b[0;32mexcept\u001b[0m \u001b[0mAttributeError\u001b[0m \u001b[0;32mas\u001b[0m \u001b[0me\u001b[0m\u001b[0;34m:\u001b[0m\u001b[0;34m\u001b[0m\u001b[0;34m\u001b[0m\u001b[0m\n\u001b[1;32m    257\u001b[0m                 raise Exception(\n",
      "\u001b[0;32m/usr/local/spark/python/lib/py4j-0.10.7-src.zip/py4j/java_gateway.py\u001b[0m in \u001b[0;36m__call__\u001b[0;34m(self, *args)\u001b[0m\n\u001b[1;32m   1255\u001b[0m         \u001b[0manswer\u001b[0m \u001b[0;34m=\u001b[0m \u001b[0mself\u001b[0m\u001b[0;34m.\u001b[0m\u001b[0mgateway_client\u001b[0m\u001b[0;34m.\u001b[0m\u001b[0msend_command\u001b[0m\u001b[0;34m(\u001b[0m\u001b[0mcommand\u001b[0m\u001b[0;34m)\u001b[0m\u001b[0;34m\u001b[0m\u001b[0;34m\u001b[0m\u001b[0m\n\u001b[1;32m   1256\u001b[0m         return_value = get_return_value(\n\u001b[0;32m-> 1257\u001b[0;31m             answer, self.gateway_client, self.target_id, self.name)\n\u001b[0m\u001b[1;32m   1258\u001b[0m \u001b[0;34m\u001b[0m\u001b[0m\n\u001b[1;32m   1259\u001b[0m         \u001b[0;32mfor\u001b[0m \u001b[0mtemp_arg\u001b[0m \u001b[0;32min\u001b[0m \u001b[0mtemp_args\u001b[0m\u001b[0;34m:\u001b[0m\u001b[0;34m\u001b[0m\u001b[0;34m\u001b[0m\u001b[0m\n",
      "\u001b[0;32m/usr/local/spark/python/pyspark/sql/utils.py\u001b[0m in \u001b[0;36mdeco\u001b[0;34m(*a, **kw)\u001b[0m\n\u001b[1;32m     61\u001b[0m     \u001b[0;32mdef\u001b[0m \u001b[0mdeco\u001b[0m\u001b[0;34m(\u001b[0m\u001b[0;34m*\u001b[0m\u001b[0ma\u001b[0m\u001b[0;34m,\u001b[0m \u001b[0;34m**\u001b[0m\u001b[0mkw\u001b[0m\u001b[0;34m)\u001b[0m\u001b[0;34m:\u001b[0m\u001b[0;34m\u001b[0m\u001b[0;34m\u001b[0m\u001b[0m\n\u001b[1;32m     62\u001b[0m         \u001b[0;32mtry\u001b[0m\u001b[0;34m:\u001b[0m\u001b[0;34m\u001b[0m\u001b[0;34m\u001b[0m\u001b[0m\n\u001b[0;32m---> 63\u001b[0;31m             \u001b[0;32mreturn\u001b[0m \u001b[0mf\u001b[0m\u001b[0;34m(\u001b[0m\u001b[0;34m*\u001b[0m\u001b[0ma\u001b[0m\u001b[0;34m,\u001b[0m \u001b[0;34m**\u001b[0m\u001b[0mkw\u001b[0m\u001b[0;34m)\u001b[0m\u001b[0;34m\u001b[0m\u001b[0;34m\u001b[0m\u001b[0m\n\u001b[0m\u001b[1;32m     64\u001b[0m         \u001b[0;32mexcept\u001b[0m \u001b[0mpy4j\u001b[0m\u001b[0;34m.\u001b[0m\u001b[0mprotocol\u001b[0m\u001b[0;34m.\u001b[0m\u001b[0mPy4JJavaError\u001b[0m \u001b[0;32mas\u001b[0m \u001b[0me\u001b[0m\u001b[0;34m:\u001b[0m\u001b[0;34m\u001b[0m\u001b[0;34m\u001b[0m\u001b[0m\n\u001b[1;32m     65\u001b[0m             \u001b[0ms\u001b[0m \u001b[0;34m=\u001b[0m \u001b[0me\u001b[0m\u001b[0;34m.\u001b[0m\u001b[0mjava_exception\u001b[0m\u001b[0;34m.\u001b[0m\u001b[0mtoString\u001b[0m\u001b[0;34m(\u001b[0m\u001b[0;34m)\u001b[0m\u001b[0;34m\u001b[0m\u001b[0;34m\u001b[0m\u001b[0m\n",
      "\u001b[0;32m/usr/local/spark/python/lib/py4j-0.10.7-src.zip/py4j/protocol.py\u001b[0m in \u001b[0;36mget_return_value\u001b[0;34m(answer, gateway_client, target_id, name)\u001b[0m\n\u001b[1;32m    334\u001b[0m             raise Py4JError(\n\u001b[1;32m    335\u001b[0m                 \u001b[0;34m\"An error occurred while calling {0}{1}{2}\"\u001b[0m\u001b[0;34m.\u001b[0m\u001b[0;34m\u001b[0m\u001b[0;34m\u001b[0m\u001b[0m\n\u001b[0;32m--> 336\u001b[0;31m                 format(target_id, \".\", name))\n\u001b[0m\u001b[1;32m    337\u001b[0m     \u001b[0;32melse\u001b[0m\u001b[0;34m:\u001b[0m\u001b[0;34m\u001b[0m\u001b[0;34m\u001b[0m\u001b[0m\n\u001b[1;32m    338\u001b[0m         \u001b[0mtype\u001b[0m \u001b[0;34m=\u001b[0m \u001b[0manswer\u001b[0m\u001b[0;34m[\u001b[0m\u001b[0;36m1\u001b[0m\u001b[0;34m]\u001b[0m\u001b[0;34m\u001b[0m\u001b[0;34m\u001b[0m\u001b[0m\n",
      "\u001b[0;31mPy4JError\u001b[0m: An error occurred while calling o126.schema"
     ]
    }
   ],
   "source": [
    "from pyspark.sql.functions import countDistinct\n",
    "\n",
    "for col in DF.columns:\n",
    "    num_distinct_values = DF.select(countDistinct(col)).collect()[0][0]\n",
    "    print(f\"{col}: {num_distinct_values}\")\n"
   ]
  },
  {
   "cell_type": "markdown",
   "id": "5cae7435-20b8-4700-954e-01c9e410f704",
   "metadata": {},
   "source": [
    "Calcul du pourcentage de valeurs manquantes "
   ]
  },
  {
   "cell_type": "code",
   "execution_count": 22,
   "id": "482b64a5-9261-4496-b003-34d76684ed94",
   "metadata": {},
   "outputs": [
    {
     "name": "stderr",
     "output_type": "stream",
     "text": [
      "ERROR:py4j.java_gateway:An error occurred while trying to connect to the Java server (127.0.0.1:32883)\n",
      "Traceback (most recent call last):\n",
      "  File \"/usr/local/spark/python/lib/py4j-0.10.7-src.zip/py4j/java_gateway.py\", line 929, in _get_connection\n",
      "    connection = self.deque.pop()\n",
      "IndexError: pop from an empty deque\n",
      "\n",
      "During handling of the above exception, another exception occurred:\n",
      "\n",
      "Traceback (most recent call last):\n",
      "  File \"/usr/local/spark/python/lib/py4j-0.10.7-src.zip/py4j/java_gateway.py\", line 1067, in start\n",
      "    self.socket.connect((self.address, self.port))\n",
      "ConnectionRefusedError: [Errno 111] Connection refused\n"
     ]
    },
    {
     "ename": "Py4JNetworkError",
     "evalue": "An error occurred while trying to connect to the Java server (127.0.0.1:32883)",
     "output_type": "error",
     "traceback": [
      "\u001b[0;31m---------------------------------------------------------------------------\u001b[0m",
      "\u001b[0;31mIndexError\u001b[0m                                Traceback (most recent call last)",
      "\u001b[0;32m/usr/local/spark/python/lib/py4j-0.10.7-src.zip/py4j/java_gateway.py\u001b[0m in \u001b[0;36m_get_connection\u001b[0;34m(self)\u001b[0m\n\u001b[1;32m    928\u001b[0m         \u001b[0;32mtry\u001b[0m\u001b[0;34m:\u001b[0m\u001b[0;34m\u001b[0m\u001b[0;34m\u001b[0m\u001b[0m\n\u001b[0;32m--> 929\u001b[0;31m             \u001b[0mconnection\u001b[0m \u001b[0;34m=\u001b[0m \u001b[0mself\u001b[0m\u001b[0;34m.\u001b[0m\u001b[0mdeque\u001b[0m\u001b[0;34m.\u001b[0m\u001b[0mpop\u001b[0m\u001b[0;34m(\u001b[0m\u001b[0;34m)\u001b[0m\u001b[0;34m\u001b[0m\u001b[0;34m\u001b[0m\u001b[0m\n\u001b[0m\u001b[1;32m    930\u001b[0m         \u001b[0;32mexcept\u001b[0m \u001b[0mIndexError\u001b[0m\u001b[0;34m:\u001b[0m\u001b[0;34m\u001b[0m\u001b[0;34m\u001b[0m\u001b[0m\n",
      "\u001b[0;31mIndexError\u001b[0m: pop from an empty deque",
      "\nDuring handling of the above exception, another exception occurred:\n",
      "\u001b[0;31mConnectionRefusedError\u001b[0m                    Traceback (most recent call last)",
      "\u001b[0;32m/usr/local/spark/python/lib/py4j-0.10.7-src.zip/py4j/java_gateway.py\u001b[0m in \u001b[0;36mstart\u001b[0;34m(self)\u001b[0m\n\u001b[1;32m   1066\u001b[0m         \u001b[0;32mtry\u001b[0m\u001b[0;34m:\u001b[0m\u001b[0;34m\u001b[0m\u001b[0;34m\u001b[0m\u001b[0m\n\u001b[0;32m-> 1067\u001b[0;31m             \u001b[0mself\u001b[0m\u001b[0;34m.\u001b[0m\u001b[0msocket\u001b[0m\u001b[0;34m.\u001b[0m\u001b[0mconnect\u001b[0m\u001b[0;34m(\u001b[0m\u001b[0;34m(\u001b[0m\u001b[0mself\u001b[0m\u001b[0;34m.\u001b[0m\u001b[0maddress\u001b[0m\u001b[0;34m,\u001b[0m \u001b[0mself\u001b[0m\u001b[0;34m.\u001b[0m\u001b[0mport\u001b[0m\u001b[0;34m)\u001b[0m\u001b[0;34m)\u001b[0m\u001b[0;34m\u001b[0m\u001b[0;34m\u001b[0m\u001b[0m\n\u001b[0m\u001b[1;32m   1068\u001b[0m             \u001b[0mself\u001b[0m\u001b[0;34m.\u001b[0m\u001b[0mstream\u001b[0m \u001b[0;34m=\u001b[0m \u001b[0mself\u001b[0m\u001b[0;34m.\u001b[0m\u001b[0msocket\u001b[0m\u001b[0;34m.\u001b[0m\u001b[0mmakefile\u001b[0m\u001b[0;34m(\u001b[0m\u001b[0;34m\"rb\"\u001b[0m\u001b[0;34m)\u001b[0m\u001b[0;34m\u001b[0m\u001b[0;34m\u001b[0m\u001b[0m\n",
      "\u001b[0;31mConnectionRefusedError\u001b[0m: [Errno 111] Connection refused",
      "\nDuring handling of the above exception, another exception occurred:\n",
      "\u001b[0;31mPy4JNetworkError\u001b[0m                          Traceback (most recent call last)",
      "\u001b[0;32m<ipython-input-22-ed15621e29de>\u001b[0m in \u001b[0;36m<module>\u001b[0;34m\u001b[0m\n\u001b[1;32m      2\u001b[0m \u001b[0;34m\u001b[0m\u001b[0m\n\u001b[1;32m      3\u001b[0m \u001b[0;31m# Calculer le pourcentage de valeurs manquantes pour chaque colonne\u001b[0m\u001b[0;34m\u001b[0m\u001b[0;34m\u001b[0m\u001b[0;34m\u001b[0m\u001b[0m\n\u001b[0;32m----> 4\u001b[0;31m \u001b[0mmissing_percentages\u001b[0m \u001b[0;34m=\u001b[0m \u001b[0mDF\u001b[0m\u001b[0;34m.\u001b[0m\u001b[0mselect\u001b[0m\u001b[0;34m(\u001b[0m\u001b[0;34m[\u001b[0m\u001b[0;34m(\u001b[0m\u001b[0msum\u001b[0m\u001b[0;34m(\u001b[0m\u001b[0mcol\u001b[0m\u001b[0;34m(\u001b[0m\u001b[0mc\u001b[0m\u001b[0;34m)\u001b[0m\u001b[0;34m.\u001b[0m\u001b[0misNull\u001b[0m\u001b[0;34m(\u001b[0m\u001b[0;34m)\u001b[0m\u001b[0;34m.\u001b[0m\u001b[0mcast\u001b[0m\u001b[0;34m(\u001b[0m\u001b[0;34m\"int\"\u001b[0m\u001b[0;34m)\u001b[0m\u001b[0;34m)\u001b[0m \u001b[0;34m/\u001b[0m \u001b[0mdf\u001b[0m\u001b[0;34m.\u001b[0m\u001b[0mcount\u001b[0m\u001b[0;34m(\u001b[0m\u001b[0;34m)\u001b[0m \u001b[0;34m*\u001b[0m \u001b[0;36m100\u001b[0m\u001b[0;34m)\u001b[0m\u001b[0;34m.\u001b[0m\u001b[0malias\u001b[0m\u001b[0;34m(\u001b[0m\u001b[0mc\u001b[0m\u001b[0;34m)\u001b[0m \u001b[0;32mfor\u001b[0m \u001b[0mc\u001b[0m \u001b[0;32min\u001b[0m \u001b[0mdf\u001b[0m\u001b[0;34m.\u001b[0m\u001b[0mcolumns\u001b[0m\u001b[0;34m]\u001b[0m\u001b[0;34m)\u001b[0m\u001b[0;34m\u001b[0m\u001b[0;34m\u001b[0m\u001b[0m\n\u001b[0m\u001b[1;32m      5\u001b[0m \u001b[0;34m\u001b[0m\u001b[0m\n\u001b[1;32m      6\u001b[0m \u001b[0;31m# Transformer le résultat en Pandas DataFrame pour la visualisation\u001b[0m\u001b[0;34m\u001b[0m\u001b[0;34m\u001b[0m\u001b[0;34m\u001b[0m\u001b[0m\n",
      "\u001b[0;32m<ipython-input-22-ed15621e29de>\u001b[0m in \u001b[0;36m<listcomp>\u001b[0;34m(.0)\u001b[0m\n\u001b[1;32m      2\u001b[0m \u001b[0;34m\u001b[0m\u001b[0m\n\u001b[1;32m      3\u001b[0m \u001b[0;31m# Calculer le pourcentage de valeurs manquantes pour chaque colonne\u001b[0m\u001b[0;34m\u001b[0m\u001b[0;34m\u001b[0m\u001b[0;34m\u001b[0m\u001b[0m\n\u001b[0;32m----> 4\u001b[0;31m \u001b[0mmissing_percentages\u001b[0m \u001b[0;34m=\u001b[0m \u001b[0mDF\u001b[0m\u001b[0;34m.\u001b[0m\u001b[0mselect\u001b[0m\u001b[0;34m(\u001b[0m\u001b[0;34m[\u001b[0m\u001b[0;34m(\u001b[0m\u001b[0msum\u001b[0m\u001b[0;34m(\u001b[0m\u001b[0mcol\u001b[0m\u001b[0;34m(\u001b[0m\u001b[0mc\u001b[0m\u001b[0;34m)\u001b[0m\u001b[0;34m.\u001b[0m\u001b[0misNull\u001b[0m\u001b[0;34m(\u001b[0m\u001b[0;34m)\u001b[0m\u001b[0;34m.\u001b[0m\u001b[0mcast\u001b[0m\u001b[0;34m(\u001b[0m\u001b[0;34m\"int\"\u001b[0m\u001b[0;34m)\u001b[0m\u001b[0;34m)\u001b[0m \u001b[0;34m/\u001b[0m \u001b[0mdf\u001b[0m\u001b[0;34m.\u001b[0m\u001b[0mcount\u001b[0m\u001b[0;34m(\u001b[0m\u001b[0;34m)\u001b[0m \u001b[0;34m*\u001b[0m \u001b[0;36m100\u001b[0m\u001b[0;34m)\u001b[0m\u001b[0;34m.\u001b[0m\u001b[0malias\u001b[0m\u001b[0;34m(\u001b[0m\u001b[0mc\u001b[0m\u001b[0;34m)\u001b[0m \u001b[0;32mfor\u001b[0m \u001b[0mc\u001b[0m \u001b[0;32min\u001b[0m \u001b[0mdf\u001b[0m\u001b[0;34m.\u001b[0m\u001b[0mcolumns\u001b[0m\u001b[0;34m]\u001b[0m\u001b[0;34m)\u001b[0m\u001b[0;34m\u001b[0m\u001b[0;34m\u001b[0m\u001b[0m\n\u001b[0m\u001b[1;32m      5\u001b[0m \u001b[0;34m\u001b[0m\u001b[0m\n\u001b[1;32m      6\u001b[0m \u001b[0;31m# Transformer le résultat en Pandas DataFrame pour la visualisation\u001b[0m\u001b[0;34m\u001b[0m\u001b[0;34m\u001b[0m\u001b[0;34m\u001b[0m\u001b[0m\n",
      "\u001b[0;32m/usr/local/spark/python/pyspark/sql/functions.py\u001b[0m in \u001b[0;36m_\u001b[0;34m(col)\u001b[0m\n\u001b[1;32m     42\u001b[0m     \u001b[0;32mdef\u001b[0m \u001b[0m_\u001b[0m\u001b[0;34m(\u001b[0m\u001b[0mcol\u001b[0m\u001b[0;34m)\u001b[0m\u001b[0;34m:\u001b[0m\u001b[0;34m\u001b[0m\u001b[0;34m\u001b[0m\u001b[0m\n\u001b[1;32m     43\u001b[0m         \u001b[0msc\u001b[0m \u001b[0;34m=\u001b[0m \u001b[0mSparkContext\u001b[0m\u001b[0;34m.\u001b[0m\u001b[0m_active_spark_context\u001b[0m\u001b[0;34m\u001b[0m\u001b[0;34m\u001b[0m\u001b[0m\n\u001b[0;32m---> 44\u001b[0;31m         \u001b[0mjc\u001b[0m \u001b[0;34m=\u001b[0m \u001b[0mgetattr\u001b[0m\u001b[0;34m(\u001b[0m\u001b[0msc\u001b[0m\u001b[0;34m.\u001b[0m\u001b[0m_jvm\u001b[0m\u001b[0;34m.\u001b[0m\u001b[0mfunctions\u001b[0m\u001b[0;34m,\u001b[0m \u001b[0mname\u001b[0m\u001b[0;34m)\u001b[0m\u001b[0;34m(\u001b[0m\u001b[0mcol\u001b[0m\u001b[0;34m.\u001b[0m\u001b[0m_jc\u001b[0m \u001b[0;32mif\u001b[0m \u001b[0misinstance\u001b[0m\u001b[0;34m(\u001b[0m\u001b[0mcol\u001b[0m\u001b[0;34m,\u001b[0m \u001b[0mColumn\u001b[0m\u001b[0;34m)\u001b[0m \u001b[0;32melse\u001b[0m \u001b[0mcol\u001b[0m\u001b[0;34m)\u001b[0m\u001b[0;34m\u001b[0m\u001b[0;34m\u001b[0m\u001b[0m\n\u001b[0m\u001b[1;32m     45\u001b[0m         \u001b[0;32mreturn\u001b[0m \u001b[0mColumn\u001b[0m\u001b[0;34m(\u001b[0m\u001b[0mjc\u001b[0m\u001b[0;34m)\u001b[0m\u001b[0;34m\u001b[0m\u001b[0;34m\u001b[0m\u001b[0m\n\u001b[1;32m     46\u001b[0m     \u001b[0m_\u001b[0m\u001b[0;34m.\u001b[0m\u001b[0m__name__\u001b[0m \u001b[0;34m=\u001b[0m \u001b[0mname\u001b[0m\u001b[0;34m\u001b[0m\u001b[0;34m\u001b[0m\u001b[0m\n",
      "\u001b[0;32m/usr/local/spark/python/lib/py4j-0.10.7-src.zip/py4j/java_gateway.py\u001b[0m in \u001b[0;36m__getattr__\u001b[0;34m(self, name)\u001b[0m\n\u001b[1;32m   1647\u001b[0m             \u001b[0mproto\u001b[0m\u001b[0;34m.\u001b[0m\u001b[0mREFLECTION_COMMAND_NAME\u001b[0m \u001b[0;34m+\u001b[0m\u001b[0;34m\u001b[0m\u001b[0;34m\u001b[0m\u001b[0m\n\u001b[1;32m   1648\u001b[0m             \u001b[0mproto\u001b[0m\u001b[0;34m.\u001b[0m\u001b[0mREFL_GET_UNKNOWN_SUB_COMMAND_NAME\u001b[0m \u001b[0;34m+\u001b[0m \u001b[0mname\u001b[0m \u001b[0;34m+\u001b[0m \u001b[0;34m\"\\n\"\u001b[0m \u001b[0;34m+\u001b[0m \u001b[0mself\u001b[0m\u001b[0;34m.\u001b[0m\u001b[0m_id\u001b[0m \u001b[0;34m+\u001b[0m\u001b[0;34m\u001b[0m\u001b[0;34m\u001b[0m\u001b[0m\n\u001b[0;32m-> 1649\u001b[0;31m             \"\\n\" + proto.END_COMMAND_PART)\n\u001b[0m\u001b[1;32m   1650\u001b[0m         \u001b[0;32mif\u001b[0m \u001b[0manswer\u001b[0m \u001b[0;34m==\u001b[0m \u001b[0mproto\u001b[0m\u001b[0;34m.\u001b[0m\u001b[0mSUCCESS_PACKAGE\u001b[0m\u001b[0;34m:\u001b[0m\u001b[0;34m\u001b[0m\u001b[0;34m\u001b[0m\u001b[0m\n\u001b[1;32m   1651\u001b[0m             \u001b[0;32mreturn\u001b[0m \u001b[0mJavaPackage\u001b[0m\u001b[0;34m(\u001b[0m\u001b[0mname\u001b[0m\u001b[0;34m,\u001b[0m \u001b[0mself\u001b[0m\u001b[0;34m.\u001b[0m\u001b[0m_gateway_client\u001b[0m\u001b[0;34m,\u001b[0m \u001b[0mjvm_id\u001b[0m\u001b[0;34m=\u001b[0m\u001b[0mself\u001b[0m\u001b[0;34m.\u001b[0m\u001b[0m_id\u001b[0m\u001b[0;34m)\u001b[0m\u001b[0;34m\u001b[0m\u001b[0;34m\u001b[0m\u001b[0m\n",
      "\u001b[0;32m/usr/local/spark/python/lib/py4j-0.10.7-src.zip/py4j/java_gateway.py\u001b[0m in \u001b[0;36msend_command\u001b[0;34m(self, command, retry, binary)\u001b[0m\n\u001b[1;32m    981\u001b[0m          \u001b[0;32mif\u001b[0m\u001b[0;31m \u001b[0m\u001b[0;31m`\u001b[0m\u001b[0mbinary\u001b[0m\u001b[0;31m`\u001b[0m \u001b[0;32mis\u001b[0m\u001b[0;31m \u001b[0m\u001b[0;31m`\u001b[0m\u001b[0;32mTrue\u001b[0m\u001b[0;31m`\u001b[0m\u001b[0;34m.\u001b[0m\u001b[0;34m\u001b[0m\u001b[0;34m\u001b[0m\u001b[0m\n\u001b[1;32m    982\u001b[0m         \"\"\"\n\u001b[0;32m--> 983\u001b[0;31m         \u001b[0mconnection\u001b[0m \u001b[0;34m=\u001b[0m \u001b[0mself\u001b[0m\u001b[0;34m.\u001b[0m\u001b[0m_get_connection\u001b[0m\u001b[0;34m(\u001b[0m\u001b[0;34m)\u001b[0m\u001b[0;34m\u001b[0m\u001b[0;34m\u001b[0m\u001b[0m\n\u001b[0m\u001b[1;32m    984\u001b[0m         \u001b[0;32mtry\u001b[0m\u001b[0;34m:\u001b[0m\u001b[0;34m\u001b[0m\u001b[0;34m\u001b[0m\u001b[0m\n\u001b[1;32m    985\u001b[0m             \u001b[0mresponse\u001b[0m \u001b[0;34m=\u001b[0m \u001b[0mconnection\u001b[0m\u001b[0;34m.\u001b[0m\u001b[0msend_command\u001b[0m\u001b[0;34m(\u001b[0m\u001b[0mcommand\u001b[0m\u001b[0;34m)\u001b[0m\u001b[0;34m\u001b[0m\u001b[0;34m\u001b[0m\u001b[0m\n",
      "\u001b[0;32m/usr/local/spark/python/lib/py4j-0.10.7-src.zip/py4j/java_gateway.py\u001b[0m in \u001b[0;36m_get_connection\u001b[0;34m(self)\u001b[0m\n\u001b[1;32m    929\u001b[0m             \u001b[0mconnection\u001b[0m \u001b[0;34m=\u001b[0m \u001b[0mself\u001b[0m\u001b[0;34m.\u001b[0m\u001b[0mdeque\u001b[0m\u001b[0;34m.\u001b[0m\u001b[0mpop\u001b[0m\u001b[0;34m(\u001b[0m\u001b[0;34m)\u001b[0m\u001b[0;34m\u001b[0m\u001b[0;34m\u001b[0m\u001b[0m\n\u001b[1;32m    930\u001b[0m         \u001b[0;32mexcept\u001b[0m \u001b[0mIndexError\u001b[0m\u001b[0;34m:\u001b[0m\u001b[0;34m\u001b[0m\u001b[0;34m\u001b[0m\u001b[0m\n\u001b[0;32m--> 931\u001b[0;31m             \u001b[0mconnection\u001b[0m \u001b[0;34m=\u001b[0m \u001b[0mself\u001b[0m\u001b[0;34m.\u001b[0m\u001b[0m_create_connection\u001b[0m\u001b[0;34m(\u001b[0m\u001b[0;34m)\u001b[0m\u001b[0;34m\u001b[0m\u001b[0;34m\u001b[0m\u001b[0m\n\u001b[0m\u001b[1;32m    932\u001b[0m         \u001b[0;32mreturn\u001b[0m \u001b[0mconnection\u001b[0m\u001b[0;34m\u001b[0m\u001b[0;34m\u001b[0m\u001b[0m\n\u001b[1;32m    933\u001b[0m \u001b[0;34m\u001b[0m\u001b[0m\n",
      "\u001b[0;32m/usr/local/spark/python/lib/py4j-0.10.7-src.zip/py4j/java_gateway.py\u001b[0m in \u001b[0;36m_create_connection\u001b[0;34m(self)\u001b[0m\n\u001b[1;32m    935\u001b[0m         connection = GatewayConnection(\n\u001b[1;32m    936\u001b[0m             self.gateway_parameters, self.gateway_property)\n\u001b[0;32m--> 937\u001b[0;31m         \u001b[0mconnection\u001b[0m\u001b[0;34m.\u001b[0m\u001b[0mstart\u001b[0m\u001b[0;34m(\u001b[0m\u001b[0;34m)\u001b[0m\u001b[0;34m\u001b[0m\u001b[0;34m\u001b[0m\u001b[0m\n\u001b[0m\u001b[1;32m    938\u001b[0m         \u001b[0;32mreturn\u001b[0m \u001b[0mconnection\u001b[0m\u001b[0;34m\u001b[0m\u001b[0;34m\u001b[0m\u001b[0m\n\u001b[1;32m    939\u001b[0m \u001b[0;34m\u001b[0m\u001b[0m\n",
      "\u001b[0;32m/usr/local/spark/python/lib/py4j-0.10.7-src.zip/py4j/java_gateway.py\u001b[0m in \u001b[0;36mstart\u001b[0;34m(self)\u001b[0m\n\u001b[1;32m   1077\u001b[0m                 \u001b[0;34m\"server ({0}:{1})\"\u001b[0m\u001b[0;34m.\u001b[0m\u001b[0mformat\u001b[0m\u001b[0;34m(\u001b[0m\u001b[0mself\u001b[0m\u001b[0;34m.\u001b[0m\u001b[0maddress\u001b[0m\u001b[0;34m,\u001b[0m \u001b[0mself\u001b[0m\u001b[0;34m.\u001b[0m\u001b[0mport\u001b[0m\u001b[0;34m)\u001b[0m\u001b[0;34m\u001b[0m\u001b[0;34m\u001b[0m\u001b[0m\n\u001b[1;32m   1078\u001b[0m             \u001b[0mlogger\u001b[0m\u001b[0;34m.\u001b[0m\u001b[0mexception\u001b[0m\u001b[0;34m(\u001b[0m\u001b[0mmsg\u001b[0m\u001b[0;34m)\u001b[0m\u001b[0;34m\u001b[0m\u001b[0;34m\u001b[0m\u001b[0m\n\u001b[0;32m-> 1079\u001b[0;31m             \u001b[0;32mraise\u001b[0m \u001b[0mPy4JNetworkError\u001b[0m\u001b[0;34m(\u001b[0m\u001b[0mmsg\u001b[0m\u001b[0;34m,\u001b[0m \u001b[0me\u001b[0m\u001b[0;34m)\u001b[0m\u001b[0;34m\u001b[0m\u001b[0;34m\u001b[0m\u001b[0m\n\u001b[0m\u001b[1;32m   1080\u001b[0m \u001b[0;34m\u001b[0m\u001b[0m\n\u001b[1;32m   1081\u001b[0m     \u001b[0;32mdef\u001b[0m \u001b[0m_authenticate_connection\u001b[0m\u001b[0;34m(\u001b[0m\u001b[0mself\u001b[0m\u001b[0;34m)\u001b[0m\u001b[0;34m:\u001b[0m\u001b[0;34m\u001b[0m\u001b[0;34m\u001b[0m\u001b[0m\n",
      "\u001b[0;31mPy4JNetworkError\u001b[0m: An error occurred while trying to connect to the Java server (127.0.0.1:32883)"
     ]
    }
   ],
   "source": [
    "import matplotlib.pyplot as plt\n",
    "\n",
    "# Calculer le pourcentage de valeurs manquantes pour chaque colonne\n",
    "missing_percentages = DF.select([(sum(col(c).isNull().cast(\"int\")) / df.count() * 100).alias(c) for c in df.columns])\n",
    "\n",
    "# Transformer le résultat en Pandas DataFrame pour la visualisation\n",
    "missing_percentages_pd = missing_percentages.toPandas().transpose()\n",
    "missing_percentages_pd.columns = ['% de valeurs manquantes']\n",
    "\n",
    "# Afficher le diagramme à barres\n",
    "missing_percentages_pd.plot(kind='bar', figsize=(12,6))\n",
    "plt.title('Pourcentage de valeurs manquantes par colonne')\n",
    "plt.xlabel('Colonnes')\n",
    "plt.ylabel('% de valeurs manquantes')\n",
    "plt.show()"
   ]
  },
  {
   "cell_type": "code",
   "execution_count": null,
   "id": "0c5ed662-3afb-4ced-8034-37a52323952a",
   "metadata": {},
   "outputs": [],
   "source": []
  }
 ],
 "metadata": {
  "kernelspec": {
   "display_name": "Python 3 (ipykernel)",
   "language": "python",
   "name": "python3"
  },
  "language_info": {
   "codemirror_mode": {
    "name": "ipython",
    "version": 3
   },
   "file_extension": ".py",
   "mimetype": "text/x-python",
   "name": "python",
   "nbconvert_exporter": "python",
   "pygments_lexer": "ipython3",
   "version": "3.10.10"
  }
 },
 "nbformat": 4,
 "nbformat_minor": 5
}
