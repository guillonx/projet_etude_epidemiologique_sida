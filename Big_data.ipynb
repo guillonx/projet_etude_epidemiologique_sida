{
 "cells": [
  {
   "cell_type": "code",
   "execution_count": 21,
   "id": "e5c99d6a-d49b-4f48-a2c7-b02eefbf5ddc",
   "metadata": {},
   "outputs": [],
   "source": [
    "from pyspark.sql import SparkSession\n",
    "import numpy as np\n",
    "import pandas as pd\n",
    "import matplotlib.pyplot as plt\n",
    "import seaborn as sns\n",
    "\n",
    "\n",
    "spark = SparkSession.builder \\\n",
    "    .appName(\"Analyse_HIV\") \\\n",
    "    .master(\"local[*]\") \\\n",
    "    .config(\"spark.executor.memory\", \"8g\") \\\n",
    "    .config(\"spark.driver.memory\", \"8g\") \\\n",
    "    .config(\"spark.memory.fraction\", \"0.8\") \\\n",
    "    .config(\"spark.memory.storageFraction\", \"0.3\") \\\n",
    "    .getOrCreate()"
   ]
  },
  {
   "cell_type": "code",
   "execution_count": 1,
   "id": "d704120f-9f49-4a09-92fc-0f3ae8741695",
   "metadata": {},
   "outputs": [],
   "source": [
    "df = spark.read.load('hdfs://localhost:8020/user/new-cases-of-hiv-infection.csv', format='com.databricks.spark.csv',header='true',sep=',',inferSchema='true')"
   ]
  },
  {
   "cell_type": "code",
   "execution_count": 2,
   "id": "540a95ff-d54c-4851-abd0-44ac7a21a71d",
   "metadata": {},
   "outputs": [
    {
     "name": "stdout",
     "output_type": "stream",
     "text": [
      "+--------------------+----+----+---------------------------------------------------------+\n",
      "|              Entity|Code|Year|Incidence - HIV/AIDS - Sex: Both - Age: All Ages (Number)|\n",
      "+--------------------+----+----+---------------------------------------------------------+\n",
      "|         Afghanistan| AFG|1990|                                                       88|\n",
      "|         Afghanistan| AFG|1991|                                                      104|\n",
      "|         Afghanistan| AFG|1992|                                                      120|\n",
      "|         Afghanistan| AFG|1993|                                                      127|\n",
      "|         Afghanistan| AFG|1994|                                                      133|\n",
      "|         Afghanistan| AFG|1995|                                                      144|\n",
      "|         Afghanistan| AFG|1996|                                                      152|\n",
      "|         Afghanistan| AFG|1997|                                                      161|\n",
      "|         Afghanistan| AFG|1998|                                                      165|\n",
      "|         Afghanistan| AFG|1999|                                                      169|\n",
      "|         Afghanistan| AFG|2000|                                                      178|\n",
      "|         Afghanistan| AFG|2001|                                                      193|\n",
      "|         Afghanistan| AFG|2002|                                                      208|\n",
      "|         Afghanistan| AFG|2003|                                                      220|\n",
      "|         Afghanistan| AFG|2004|                                                      233|\n",
      "|         Afghanistan| AFG|2005|                                                      244|\n",
      "|         Afghanistan| AFG|2006|                                                      252|\n",
      "|         Afghanistan| AFG|2007|                                                      269|\n",
      "|         Afghanistan| AFG|2008|                                                      282|\n",
      "|         Afghanistan| AFG|2009|                                                      290|\n",
      "|         Afghanistan| AFG|2010|                                                      301|\n",
      "|         Afghanistan| AFG|2011|                                                      330|\n",
      "|         Afghanistan| AFG|2012|                                                      459|\n",
      "|         Afghanistan| AFG|2013|                                                      526|\n",
      "|         Afghanistan| AFG|2014|                                                      593|\n",
      "|         Afghanistan| AFG|2015|                                                      670|\n",
      "|         Afghanistan| AFG|2016|                                                      718|\n",
      "|         Afghanistan| AFG|2017|                                                      765|\n",
      "|         Afghanistan| AFG|2018|                                                      811|\n",
      "|         Afghanistan| AFG|2019|                                                      850|\n",
      "|African Region (WHO)|null|1990|                                                  1716679|\n",
      "|African Region (WHO)|null|1991|                                                  1980985|\n",
      "|African Region (WHO)|null|1992|                                                  2202247|\n",
      "|African Region (WHO)|null|1993|                                                  2377334|\n",
      "|African Region (WHO)|null|1994|                                                  2503193|\n",
      "|African Region (WHO)|null|1995|                                                  2581305|\n",
      "|African Region (WHO)|null|1996|                                                  2614399|\n",
      "|African Region (WHO)|null|1997|                                                  2604933|\n",
      "|African Region (WHO)|null|1998|                                                  2559210|\n",
      "|African Region (WHO)|null|1999|                                                  2488686|\n",
      "|African Region (WHO)|null|2000|                                                  2405364|\n",
      "|African Region (WHO)|null|2001|                                                  2316862|\n",
      "|African Region (WHO)|null|2002|                                                  2230153|\n",
      "|African Region (WHO)|null|2003|                                                  2152552|\n",
      "|African Region (WHO)|null|2004|                                                  2085619|\n",
      "|African Region (WHO)|null|2005|                                                  2028997|\n",
      "|African Region (WHO)|null|2006|                                                  1979672|\n",
      "|African Region (WHO)|null|2007|                                                  1934594|\n",
      "|African Region (WHO)|null|2008|                                                  1888093|\n",
      "|African Region (WHO)|null|2009|                                                  1842407|\n",
      "+--------------------+----+----+---------------------------------------------------------+\n",
      "only showing top 50 rows\n",
      "\n"
     ]
    }
   ],
   "source": [
    "df.show(50)"
   ]
  },
  {
   "cell_type": "code",
   "execution_count": 3,
   "id": "effa7f73-47f8-449e-99cc-7de911630bdd",
   "metadata": {},
   "outputs": [],
   "source": [
    "df1 = spark.read.load('hdfs://localhost:8020/user/tb-patients-living-with-hiv-receiving-art.csv', format='com.databricks.spark.csv',header='true',sep=',',inferSchema='true')"
   ]
  },
  {
   "cell_type": "code",
   "execution_count": 25,
   "id": "3c4f75a7-8a50-4515-9599-61906c8b0cea",
   "metadata": {},
   "outputs": [
    {
     "name": "stdout",
     "output_type": "stream",
     "text": [
      "+-----------+----+----+-------------------------------------------------+\n",
      "|     Entity|Code|Year|TB patients living with HIV receiving ART - Total|\n",
      "+-----------+----+----+-------------------------------------------------+\n",
      "|Afghanistan| AFG|2007|                                                0|\n",
      "|Afghanistan| AFG|2008|                                                0|\n",
      "|Afghanistan| AFG|2009|                                                5|\n",
      "|Afghanistan| AFG|2010|                                                2|\n",
      "|Afghanistan| AFG|2011|                                                4|\n",
      "|Afghanistan| AFG|2012|                                                5|\n",
      "|Afghanistan| AFG|2015|                                                3|\n",
      "|Afghanistan| AFG|2016|                                                8|\n",
      "|    Albania| ALB|2003|                                                0|\n",
      "|    Albania| ALB|2006|                                                3|\n",
      "|    Albania| ALB|2007|                                                1|\n",
      "|    Albania| ALB|2008|                                                4|\n",
      "|    Albania| ALB|2009|                                                6|\n",
      "|    Albania| ALB|2010|                                                0|\n",
      "|    Albania| ALB|2011|                                                2|\n",
      "|    Albania| ALB|2012|                                                7|\n",
      "|    Albania| ALB|2013|                                                2|\n",
      "|    Albania| ALB|2014|                                                2|\n",
      "|    Albania| ALB|2015|                                                6|\n",
      "|    Albania| ALB|2016|                                                6|\n",
      "+-----------+----+----+-------------------------------------------------+\n",
      "only showing top 20 rows\n",
      "\n"
     ]
    }
   ],
   "source": [
    "df1.show(20)"
   ]
  },
  {
   "cell_type": "code",
   "execution_count": 4,
   "id": "e7f05006-7f36-4e6c-8d40-fec417045bea",
   "metadata": {},
   "outputs": [],
   "source": [
    "from pyspark.sql.functions import col\n",
    "df1 = df1.withColumnRenamed(\"TB patients living with HIV receiving ART - Total\", \"Tbpatients\")"
   ]
  },
  {
   "cell_type": "code",
   "execution_count": 32,
   "id": "885e2212-8ee8-4df6-92aa-94005e3da5d2",
   "metadata": {},
   "outputs": [
    {
     "name": "stdout",
     "output_type": "stream",
     "text": [
      "+-----------+---+----+----------+\n",
      "|      Entit|Cod| Yea|Tbpatients|\n",
      "+-----------+---+----+----------+\n",
      "|Afghanistan|AFG|2007|         0|\n",
      "|Afghanistan|AFG|2008|         0|\n",
      "|Afghanistan|AFG|2009|         5|\n",
      "|Afghanistan|AFG|2010|         2|\n",
      "|Afghanistan|AFG|2011|         4|\n",
      "|Afghanistan|AFG|2012|         5|\n",
      "|Afghanistan|AFG|2015|         3|\n",
      "|Afghanistan|AFG|2016|         8|\n",
      "|    Albania|ALB|2003|         0|\n",
      "|    Albania|ALB|2006|         3|\n",
      "|    Albania|ALB|2007|         1|\n",
      "|    Albania|ALB|2008|         4|\n",
      "|    Albania|ALB|2009|         6|\n",
      "|    Albania|ALB|2010|         0|\n",
      "|    Albania|ALB|2011|         2|\n",
      "|    Albania|ALB|2012|         7|\n",
      "|    Albania|ALB|2013|         2|\n",
      "|    Albania|ALB|2014|         2|\n",
      "|    Albania|ALB|2015|         6|\n",
      "|    Albania|ALB|2016|         6|\n",
      "+-----------+---+----+----------+\n",
      "only showing top 20 rows\n",
      "\n"
     ]
    }
   ],
   "source": [
    "from pyspark.sql.functions import col\n",
    "df1 = df1.withColumnRenamed(\"Entity\", \"Entit\")\n",
    "df1 = df1.withColumnRenamed(\"Code\", \"Cod\")\n",
    "df1 = df1.withColumnRenamed(\"Year\", \"Yea\")\n",
    "df1.show()"
   ]
  },
  {
   "cell_type": "code",
   "execution_count": 33,
   "id": "6e22f9ab-b8e0-490d-a38d-d52cd853fec4",
   "metadata": {},
   "outputs": [
    {
     "name": "stdout",
     "output_type": "stream",
     "text": [
      "+-----------+----+----+---------+\n",
      "|     Entity|Code|Year|Incidence|\n",
      "+-----------+----+----+---------+\n",
      "|Afghanistan| AFG|1990|       88|\n",
      "|Afghanistan| AFG|1991|      104|\n",
      "|Afghanistan| AFG|1992|      120|\n",
      "|Afghanistan| AFG|1993|      127|\n",
      "|Afghanistan| AFG|1994|      133|\n",
      "|Afghanistan| AFG|1995|      144|\n",
      "|Afghanistan| AFG|1996|      152|\n",
      "|Afghanistan| AFG|1997|      161|\n",
      "|Afghanistan| AFG|1998|      165|\n",
      "|Afghanistan| AFG|1999|      169|\n",
      "|Afghanistan| AFG|2000|      178|\n",
      "|Afghanistan| AFG|2001|      193|\n",
      "|Afghanistan| AFG|2002|      208|\n",
      "|Afghanistan| AFG|2003|      220|\n",
      "|Afghanistan| AFG|2004|      233|\n",
      "|Afghanistan| AFG|2005|      244|\n",
      "|Afghanistan| AFG|2006|      252|\n",
      "|Afghanistan| AFG|2007|      269|\n",
      "|Afghanistan| AFG|2008|      282|\n",
      "|Afghanistan| AFG|2009|      290|\n",
      "+-----------+----+----+---------+\n",
      "only showing top 20 rows\n",
      "\n"
     ]
    }
   ],
   "source": [
    "from pyspark.sql.functions import col\n",
    "df = df.withColumnRenamed(\"Incidence - HIV/AIDS - Sex: Both - Age: All Ages (Number)\", \"Incidence\")\n",
    "df.show()"
   ]
  },
  {
   "cell_type": "code",
   "execution_count": 34,
   "id": "3d7364d5-d04e-404f-b4b6-9e6a30a06ac6",
   "metadata": {},
   "outputs": [
    {
     "name": "stdout",
     "output_type": "stream",
     "text": [
      "+-----------+----+----+---------+-----------+---+----+----------+\n",
      "|     Entity|Code|Year|Incidence|      Entit|Cod| Yea|Tbpatients|\n",
      "+-----------+----+----+---------+-----------+---+----+----------+\n",
      "|Afghanistan| AFG|1990|       88|Afghanistan|AFG|2016|         8|\n",
      "|Afghanistan| AFG|1990|       88|Afghanistan|AFG|2015|         3|\n",
      "|Afghanistan| AFG|1990|       88|Afghanistan|AFG|2012|         5|\n",
      "|Afghanistan| AFG|1990|       88|Afghanistan|AFG|2011|         4|\n",
      "|Afghanistan| AFG|1990|       88|Afghanistan|AFG|2010|         2|\n",
      "|Afghanistan| AFG|1990|       88|Afghanistan|AFG|2009|         5|\n",
      "|Afghanistan| AFG|1990|       88|Afghanistan|AFG|2008|         0|\n",
      "|Afghanistan| AFG|1990|       88|Afghanistan|AFG|2007|         0|\n",
      "|Afghanistan| AFG|1991|      104|Afghanistan|AFG|2016|         8|\n",
      "|Afghanistan| AFG|1991|      104|Afghanistan|AFG|2015|         3|\n",
      "|Afghanistan| AFG|1991|      104|Afghanistan|AFG|2012|         5|\n",
      "|Afghanistan| AFG|1991|      104|Afghanistan|AFG|2011|         4|\n",
      "|Afghanistan| AFG|1991|      104|Afghanistan|AFG|2010|         2|\n",
      "|Afghanistan| AFG|1991|      104|Afghanistan|AFG|2009|         5|\n",
      "|Afghanistan| AFG|1991|      104|Afghanistan|AFG|2008|         0|\n",
      "|Afghanistan| AFG|1991|      104|Afghanistan|AFG|2007|         0|\n",
      "|Afghanistan| AFG|1992|      120|Afghanistan|AFG|2016|         8|\n",
      "|Afghanistan| AFG|1992|      120|Afghanistan|AFG|2015|         3|\n",
      "|Afghanistan| AFG|1992|      120|Afghanistan|AFG|2012|         5|\n",
      "|Afghanistan| AFG|1992|      120|Afghanistan|AFG|2011|         4|\n",
      "+-----------+----+----+---------+-----------+---+----+----------+\n",
      "only showing top 20 rows\n",
      "\n"
     ]
    }
   ],
   "source": [
    "df_new = df.join(df1, df.Entity==df1.Entit)\n",
    "df_new.show()"
   ]
  },
  {
   "cell_type": "code",
   "execution_count": 35,
   "id": "cf7db0ea-d288-46bb-8f8d-2a8cdde4b83b",
   "metadata": {},
   "outputs": [
    {
     "name": "stdout",
     "output_type": "stream",
     "text": [
      "+-----------+----+----+---------+----------+\n",
      "|     Entity|Code|Year|Incidence|Tbpatients|\n",
      "+-----------+----+----+---------+----------+\n",
      "|Afghanistan| AFG|1990|       88|         8|\n",
      "|Afghanistan| AFG|1990|       88|         3|\n",
      "|Afghanistan| AFG|1990|       88|         5|\n",
      "|Afghanistan| AFG|1990|       88|         4|\n",
      "|Afghanistan| AFG|1990|       88|         2|\n",
      "|Afghanistan| AFG|1990|       88|         5|\n",
      "|Afghanistan| AFG|1990|       88|         0|\n",
      "|Afghanistan| AFG|1990|       88|         0|\n",
      "|Afghanistan| AFG|1991|      104|         8|\n",
      "|Afghanistan| AFG|1991|      104|         3|\n",
      "|Afghanistan| AFG|1991|      104|         5|\n",
      "|Afghanistan| AFG|1991|      104|         4|\n",
      "|Afghanistan| AFG|1991|      104|         2|\n",
      "|Afghanistan| AFG|1991|      104|         5|\n",
      "|Afghanistan| AFG|1991|      104|         0|\n",
      "|Afghanistan| AFG|1991|      104|         0|\n",
      "|Afghanistan| AFG|1992|      120|         8|\n",
      "|Afghanistan| AFG|1992|      120|         3|\n",
      "|Afghanistan| AFG|1992|      120|         5|\n",
      "|Afghanistan| AFG|1992|      120|         4|\n",
      "+-----------+----+----+---------+----------+\n",
      "only showing top 20 rows\n",
      "\n"
     ]
    }
   ],
   "source": [
    "from pyspark.sql.functions import col\n",
    "\n",
    "# récupérer la liste des noms de colonnes du dataframe\n",
    "cols = df_new.columns\n",
    "\n",
    "# supprimer les colonnes 4, 5 et 6 du dataframe\n",
    "cols_to_drop = [cols[4], cols[5], cols[6]]\n",
    "df_ = df_new.drop(*cols_to_drop)\n",
    "df_.show()"
   ]
  },
  {
   "cell_type": "code",
   "execution_count": 36,
   "id": "a3ad6cce-ef6b-4940-853b-8d27204fa919",
   "metadata": {},
   "outputs": [
    {
     "name": "stdout",
     "output_type": "stream",
     "text": [
      "+-----------+----+----+-------------------------------------------------------------------+\n",
      "|     Entity|Code|Year|Estimated TB-related deaths among people living with HIV - estimate|\n",
      "+-----------+----+----+-------------------------------------------------------------------+\n",
      "|Afghanistan| AFG|2000|                                                            87.0184|\n",
      "|Afghanistan| AFG|2001|                                                            74.7313|\n",
      "|Afghanistan| AFG|2002|                                                            67.5944|\n",
      "|Afghanistan| AFG|2003|                                                            69.5065|\n",
      "|Afghanistan| AFG|2004|                                                            65.7143|\n",
      "|Afghanistan| AFG|2005|                                                            64.4447|\n",
      "|Afghanistan| AFG|2006|                                                            62.2394|\n",
      "|Afghanistan| AFG|2007|                                                            60.0473|\n",
      "|Afghanistan| AFG|2008|                                                            66.4017|\n",
      "|Afghanistan| AFG|2009|                                                            76.5272|\n",
      "|Afghanistan| AFG|2010|                                                            80.4727|\n",
      "|Afghanistan| AFG|2011|                                                            89.6658|\n",
      "|Afghanistan| AFG|2012|                                                            97.8129|\n",
      "|Afghanistan| AFG|2013|                                                            102.495|\n",
      "|Afghanistan| AFG|2014|                                                            110.409|\n",
      "|Afghanistan| AFG|2015|                                                            105.271|\n",
      "|Afghanistan| AFG|2016|                                                             95.512|\n",
      "|    Albania| ALB|2000|                                                           0.155922|\n",
      "|    Albania| ALB|2001|                                                           0.146305|\n",
      "|    Albania| ALB|2002|                                                            0.16979|\n",
      "+-----------+----+----+-------------------------------------------------------------------+\n",
      "only showing top 20 rows\n",
      "\n"
     ]
    }
   ],
   "source": [
    "df2 = spark.read.load('hdfs://localhost:8020/user/tb-related-deaths-hiv.csv', format='com.databricks.spark.csv',header='true',sep=',',inferSchema='true')\n",
    "df2.show()\n"
   ]
  },
  {
   "cell_type": "code",
   "execution_count": 37,
   "id": "f35f1789-edb2-4e0c-bda4-6222fb85b6f8",
   "metadata": {},
   "outputs": [
    {
     "name": "stdout",
     "output_type": "stream",
     "text": [
      "+-----------+---+----+----------+\n",
      "|       Enti| Co|  Ye|TB-related|\n",
      "+-----------+---+----+----------+\n",
      "|Afghanistan|AFG|2000|   87.0184|\n",
      "|Afghanistan|AFG|2001|   74.7313|\n",
      "|Afghanistan|AFG|2002|   67.5944|\n",
      "|Afghanistan|AFG|2003|   69.5065|\n",
      "|Afghanistan|AFG|2004|   65.7143|\n",
      "|Afghanistan|AFG|2005|   64.4447|\n",
      "|Afghanistan|AFG|2006|   62.2394|\n",
      "|Afghanistan|AFG|2007|   60.0473|\n",
      "|Afghanistan|AFG|2008|   66.4017|\n",
      "|Afghanistan|AFG|2009|   76.5272|\n",
      "|Afghanistan|AFG|2010|   80.4727|\n",
      "|Afghanistan|AFG|2011|   89.6658|\n",
      "|Afghanistan|AFG|2012|   97.8129|\n",
      "|Afghanistan|AFG|2013|   102.495|\n",
      "|Afghanistan|AFG|2014|   110.409|\n",
      "|Afghanistan|AFG|2015|   105.271|\n",
      "|Afghanistan|AFG|2016|    95.512|\n",
      "|    Albania|ALB|2000|  0.155922|\n",
      "|    Albania|ALB|2001|  0.146305|\n",
      "|    Albania|ALB|2002|   0.16979|\n",
      "+-----------+---+----+----------+\n",
      "only showing top 20 rows\n",
      "\n"
     ]
    }
   ],
   "source": [
    "from pyspark.sql.functions import col\n",
    "df2 = df2.withColumnRenamed(\"Entity\", \"Enti\")\n",
    "df2 = df2.withColumnRenamed(\"Code\", \"Co\")\n",
    "df2 = df2.withColumnRenamed(\"Year\", \"Ye\")\n",
    "df2 = df2.withColumnRenamed(\"Estimated TB-related deaths among people living with HIV - estimate\", \"TB-related\")\n",
    "df2.show()"
   ]
  },
  {
   "cell_type": "code",
   "execution_count": 40,
   "id": "0bdd7048-2e70-4934-8a7f-1c201a6b776a",
   "metadata": {},
   "outputs": [
    {
     "name": "stdout",
     "output_type": "stream",
     "text": [
      "+-----------+----+----+---------+----------+-----------+---+----+----------+\n",
      "|     Entity|Code|Year|Incidence|Tbpatients|       Enti| Co|  Ye|TB-related|\n",
      "+-----------+----+----+---------+----------+-----------+---+----+----------+\n",
      "|Afghanistan| AFG|1990|       88|         8|Afghanistan|AFG|2016|    95.512|\n",
      "|Afghanistan| AFG|1990|       88|         8|Afghanistan|AFG|2015|   105.271|\n",
      "|Afghanistan| AFG|1990|       88|         8|Afghanistan|AFG|2014|   110.409|\n",
      "|Afghanistan| AFG|1990|       88|         8|Afghanistan|AFG|2013|   102.495|\n",
      "|Afghanistan| AFG|1990|       88|         8|Afghanistan|AFG|2012|   97.8129|\n",
      "|Afghanistan| AFG|1990|       88|         8|Afghanistan|AFG|2011|   89.6658|\n",
      "|Afghanistan| AFG|1990|       88|         8|Afghanistan|AFG|2010|   80.4727|\n",
      "|Afghanistan| AFG|1990|       88|         8|Afghanistan|AFG|2009|   76.5272|\n",
      "|Afghanistan| AFG|1990|       88|         8|Afghanistan|AFG|2008|   66.4017|\n",
      "|Afghanistan| AFG|1990|       88|         8|Afghanistan|AFG|2007|   60.0473|\n",
      "|Afghanistan| AFG|1990|       88|         8|Afghanistan|AFG|2006|   62.2394|\n",
      "|Afghanistan| AFG|1990|       88|         8|Afghanistan|AFG|2005|   64.4447|\n",
      "|Afghanistan| AFG|1990|       88|         8|Afghanistan|AFG|2004|   65.7143|\n",
      "|Afghanistan| AFG|1990|       88|         8|Afghanistan|AFG|2003|   69.5065|\n",
      "|Afghanistan| AFG|1990|       88|         8|Afghanistan|AFG|2002|   67.5944|\n",
      "|Afghanistan| AFG|1990|       88|         8|Afghanistan|AFG|2001|   74.7313|\n",
      "|Afghanistan| AFG|1990|       88|         8|Afghanistan|AFG|2000|   87.0184|\n",
      "|Afghanistan| AFG|1990|       88|         3|Afghanistan|AFG|2016|    95.512|\n",
      "|Afghanistan| AFG|1990|       88|         3|Afghanistan|AFG|2015|   105.271|\n",
      "|Afghanistan| AFG|1990|       88|         3|Afghanistan|AFG|2014|   110.409|\n",
      "+-----------+----+----+---------+----------+-----------+---+----+----------+\n",
      "only showing top 20 rows\n",
      "\n"
     ]
    }
   ],
   "source": [
    "df_ne = df_.join(df2, df_.Entity==df2.Enti)\n",
    "df_ne.show()"
   ]
  },
  {
   "cell_type": "code",
   "execution_count": 41,
   "id": "8ff6bb1f-37fe-4074-91fb-aad1f2f5f64c",
   "metadata": {},
   "outputs": [
    {
     "name": "stdout",
     "output_type": "stream",
     "text": [
      "+-----------+----+----+---------+----------+----------+\n",
      "|     Entity|Code|Year|Incidence|Tbpatients|TB-related|\n",
      "+-----------+----+----+---------+----------+----------+\n",
      "|Afghanistan| AFG|1990|       88|         8|    95.512|\n",
      "|Afghanistan| AFG|1990|       88|         8|   105.271|\n",
      "|Afghanistan| AFG|1990|       88|         8|   110.409|\n",
      "|Afghanistan| AFG|1990|       88|         8|   102.495|\n",
      "|Afghanistan| AFG|1990|       88|         8|   97.8129|\n",
      "|Afghanistan| AFG|1990|       88|         8|   89.6658|\n",
      "|Afghanistan| AFG|1990|       88|         8|   80.4727|\n",
      "|Afghanistan| AFG|1990|       88|         8|   76.5272|\n",
      "|Afghanistan| AFG|1990|       88|         8|   66.4017|\n",
      "|Afghanistan| AFG|1990|       88|         8|   60.0473|\n",
      "|Afghanistan| AFG|1990|       88|         8|   62.2394|\n",
      "|Afghanistan| AFG|1990|       88|         8|   64.4447|\n",
      "|Afghanistan| AFG|1990|       88|         8|   65.7143|\n",
      "|Afghanistan| AFG|1990|       88|         8|   69.5065|\n",
      "|Afghanistan| AFG|1990|       88|         8|   67.5944|\n",
      "|Afghanistan| AFG|1990|       88|         8|   74.7313|\n",
      "|Afghanistan| AFG|1990|       88|         8|   87.0184|\n",
      "|Afghanistan| AFG|1990|       88|         3|    95.512|\n",
      "|Afghanistan| AFG|1990|       88|         3|   105.271|\n",
      "|Afghanistan| AFG|1990|       88|         3|   110.409|\n",
      "+-----------+----+----+---------+----------+----------+\n",
      "only showing top 20 rows\n",
      "\n"
     ]
    }
   ],
   "source": [
    "from pyspark.sql.functions import col\n",
    "\n",
    "# récupérer la liste des noms de colonnes du dataframe\n",
    "cols = df_ne.columns\n",
    "\n",
    "# supprimer les colonnes 4, 5 et 6 du dataframe\n",
    "cols_to_drop = [cols[5], cols[6], cols[7]]\n",
    "DF = df_ne.drop(*cols_to_drop)\n",
    "DF.show()"
   ]
  },
  {
   "cell_type": "code",
   "execution_count": null,
   "id": "feefb8e6-ea2b-4679-8694-5721ba0a1b7e",
   "metadata": {},
   "outputs": [],
   "source": []
  }
 ],
 "metadata": {
  "kernelspec": {
   "display_name": "Python 3",
   "language": "python",
   "name": "python3"
  },
  "language_info": {
   "codemirror_mode": {
    "name": "ipython",
    "version": 3
   },
   "file_extension": ".py",
   "mimetype": "text/x-python",
   "name": "python",
   "nbconvert_exporter": "python",
   "pygments_lexer": "ipython3",
   "version": "3.7.11"
  }
 },
 "nbformat": 4,
 "nbformat_minor": 5
}
